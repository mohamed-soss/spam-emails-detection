{
  "cells": [
    {
      "cell_type": "markdown",
      "source": [
        "#Importing Libraries"
      ],
      "metadata": {
        "id": "bgv709WdOZfJ"
      }
    },
    {
      "cell_type": "code",
      "execution_count": null,
      "metadata": {
        "id": "b9HAZS7qja1U"
      },
      "outputs": [],
      "source": [
        "import pandas as pd\n",
        "import numpy as np\n",
        "import seaborn as sns\n",
        "import matplotlib.pyplot as plt\n",
        "from sklearn import metrics"
      ]
    },
    {
      "cell_type": "markdown",
      "source": [
        "#Reading Data"
      ],
      "metadata": {
        "id": "BOQiQf4sOqUh"
      }
    },
    {
      "cell_type": "code",
      "execution_count": null,
      "metadata": {
        "colab": {
          "base_uri": "https://localhost:8080/",
          "height": 423
        },
        "id": "8UIJJH0Jj2G6",
        "outputId": "7ad99074-f2af-4570-97e5-ce29591059c4"
      },
      "outputs": [
        {
          "output_type": "execute_result",
          "data": {
            "text/plain": [
              "        v1                                                 v2 Unnamed: 2  \\\n",
              "0      ham  Go until jurong point, crazy.. Available only ...        NaN   \n",
              "1      ham                      Ok lar... Joking wif u oni...        NaN   \n",
              "2     spam  Free entry in 2 a wkly comp to win FA Cup fina...        NaN   \n",
              "3      ham  U dun say so early hor... U c already then say...        NaN   \n",
              "4      ham  Nah I don't think he goes to usf, he lives aro...        NaN   \n",
              "...    ...                                                ...        ...   \n",
              "5567  spam  This is the 2nd time we have tried 2 contact u...        NaN   \n",
              "5568   ham              Will Ì_ b going to esplanade fr home?        NaN   \n",
              "5569   ham  Pity, * was in mood for that. So...any other s...        NaN   \n",
              "5570   ham  The guy did some bitching but I acted like i'd...        NaN   \n",
              "5571   ham                         Rofl. Its true to its name        NaN   \n",
              "\n",
              "     Unnamed: 3 Unnamed: 4  \n",
              "0           NaN        NaN  \n",
              "1           NaN        NaN  \n",
              "2           NaN        NaN  \n",
              "3           NaN        NaN  \n",
              "4           NaN        NaN  \n",
              "...         ...        ...  \n",
              "5567        NaN        NaN  \n",
              "5568        NaN        NaN  \n",
              "5569        NaN        NaN  \n",
              "5570        NaN        NaN  \n",
              "5571        NaN        NaN  \n",
              "\n",
              "[5572 rows x 5 columns]"
            ],
            "text/html": [
              "\n",
              "  <div id=\"df-0de5ac24-9e40-443c-8ef6-85b98bb5f834\" class=\"colab-df-container\">\n",
              "    <div>\n",
              "<style scoped>\n",
              "    .dataframe tbody tr th:only-of-type {\n",
              "        vertical-align: middle;\n",
              "    }\n",
              "\n",
              "    .dataframe tbody tr th {\n",
              "        vertical-align: top;\n",
              "    }\n",
              "\n",
              "    .dataframe thead th {\n",
              "        text-align: right;\n",
              "    }\n",
              "</style>\n",
              "<table border=\"1\" class=\"dataframe\">\n",
              "  <thead>\n",
              "    <tr style=\"text-align: right;\">\n",
              "      <th></th>\n",
              "      <th>v1</th>\n",
              "      <th>v2</th>\n",
              "      <th>Unnamed: 2</th>\n",
              "      <th>Unnamed: 3</th>\n",
              "      <th>Unnamed: 4</th>\n",
              "    </tr>\n",
              "  </thead>\n",
              "  <tbody>\n",
              "    <tr>\n",
              "      <th>0</th>\n",
              "      <td>ham</td>\n",
              "      <td>Go until jurong point, crazy.. Available only ...</td>\n",
              "      <td>NaN</td>\n",
              "      <td>NaN</td>\n",
              "      <td>NaN</td>\n",
              "    </tr>\n",
              "    <tr>\n",
              "      <th>1</th>\n",
              "      <td>ham</td>\n",
              "      <td>Ok lar... Joking wif u oni...</td>\n",
              "      <td>NaN</td>\n",
              "      <td>NaN</td>\n",
              "      <td>NaN</td>\n",
              "    </tr>\n",
              "    <tr>\n",
              "      <th>2</th>\n",
              "      <td>spam</td>\n",
              "      <td>Free entry in 2 a wkly comp to win FA Cup fina...</td>\n",
              "      <td>NaN</td>\n",
              "      <td>NaN</td>\n",
              "      <td>NaN</td>\n",
              "    </tr>\n",
              "    <tr>\n",
              "      <th>3</th>\n",
              "      <td>ham</td>\n",
              "      <td>U dun say so early hor... U c already then say...</td>\n",
              "      <td>NaN</td>\n",
              "      <td>NaN</td>\n",
              "      <td>NaN</td>\n",
              "    </tr>\n",
              "    <tr>\n",
              "      <th>4</th>\n",
              "      <td>ham</td>\n",
              "      <td>Nah I don't think he goes to usf, he lives aro...</td>\n",
              "      <td>NaN</td>\n",
              "      <td>NaN</td>\n",
              "      <td>NaN</td>\n",
              "    </tr>\n",
              "    <tr>\n",
              "      <th>...</th>\n",
              "      <td>...</td>\n",
              "      <td>...</td>\n",
              "      <td>...</td>\n",
              "      <td>...</td>\n",
              "      <td>...</td>\n",
              "    </tr>\n",
              "    <tr>\n",
              "      <th>5567</th>\n",
              "      <td>spam</td>\n",
              "      <td>This is the 2nd time we have tried 2 contact u...</td>\n",
              "      <td>NaN</td>\n",
              "      <td>NaN</td>\n",
              "      <td>NaN</td>\n",
              "    </tr>\n",
              "    <tr>\n",
              "      <th>5568</th>\n",
              "      <td>ham</td>\n",
              "      <td>Will Ì_ b going to esplanade fr home?</td>\n",
              "      <td>NaN</td>\n",
              "      <td>NaN</td>\n",
              "      <td>NaN</td>\n",
              "    </tr>\n",
              "    <tr>\n",
              "      <th>5569</th>\n",
              "      <td>ham</td>\n",
              "      <td>Pity, * was in mood for that. So...any other s...</td>\n",
              "      <td>NaN</td>\n",
              "      <td>NaN</td>\n",
              "      <td>NaN</td>\n",
              "    </tr>\n",
              "    <tr>\n",
              "      <th>5570</th>\n",
              "      <td>ham</td>\n",
              "      <td>The guy did some bitching but I acted like i'd...</td>\n",
              "      <td>NaN</td>\n",
              "      <td>NaN</td>\n",
              "      <td>NaN</td>\n",
              "    </tr>\n",
              "    <tr>\n",
              "      <th>5571</th>\n",
              "      <td>ham</td>\n",
              "      <td>Rofl. Its true to its name</td>\n",
              "      <td>NaN</td>\n",
              "      <td>NaN</td>\n",
              "      <td>NaN</td>\n",
              "    </tr>\n",
              "  </tbody>\n",
              "</table>\n",
              "<p>5572 rows × 5 columns</p>\n",
              "</div>\n",
              "    <div class=\"colab-df-buttons\">\n",
              "\n",
              "  <div class=\"colab-df-container\">\n",
              "    <button class=\"colab-df-convert\" onclick=\"convertToInteractive('df-0de5ac24-9e40-443c-8ef6-85b98bb5f834')\"\n",
              "            title=\"Convert this dataframe to an interactive table.\"\n",
              "            style=\"display:none;\">\n",
              "\n",
              "  <svg xmlns=\"http://www.w3.org/2000/svg\" height=\"24px\" viewBox=\"0 -960 960 960\">\n",
              "    <path d=\"M120-120v-720h720v720H120Zm60-500h600v-160H180v160Zm220 220h160v-160H400v160Zm0 220h160v-160H400v160ZM180-400h160v-160H180v160Zm440 0h160v-160H620v160ZM180-180h160v-160H180v160Zm440 0h160v-160H620v160Z\"/>\n",
              "  </svg>\n",
              "    </button>\n",
              "\n",
              "  <style>\n",
              "    .colab-df-container {\n",
              "      display:flex;\n",
              "      gap: 12px;\n",
              "    }\n",
              "\n",
              "    .colab-df-convert {\n",
              "      background-color: #E8F0FE;\n",
              "      border: none;\n",
              "      border-radius: 50%;\n",
              "      cursor: pointer;\n",
              "      display: none;\n",
              "      fill: #1967D2;\n",
              "      height: 32px;\n",
              "      padding: 0 0 0 0;\n",
              "      width: 32px;\n",
              "    }\n",
              "\n",
              "    .colab-df-convert:hover {\n",
              "      background-color: #E2EBFA;\n",
              "      box-shadow: 0px 1px 2px rgba(60, 64, 67, 0.3), 0px 1px 3px 1px rgba(60, 64, 67, 0.15);\n",
              "      fill: #174EA6;\n",
              "    }\n",
              "\n",
              "    .colab-df-buttons div {\n",
              "      margin-bottom: 4px;\n",
              "    }\n",
              "\n",
              "    [theme=dark] .colab-df-convert {\n",
              "      background-color: #3B4455;\n",
              "      fill: #D2E3FC;\n",
              "    }\n",
              "\n",
              "    [theme=dark] .colab-df-convert:hover {\n",
              "      background-color: #434B5C;\n",
              "      box-shadow: 0px 1px 3px 1px rgba(0, 0, 0, 0.15);\n",
              "      filter: drop-shadow(0px 1px 2px rgba(0, 0, 0, 0.3));\n",
              "      fill: #FFFFFF;\n",
              "    }\n",
              "  </style>\n",
              "\n",
              "    <script>\n",
              "      const buttonEl =\n",
              "        document.querySelector('#df-0de5ac24-9e40-443c-8ef6-85b98bb5f834 button.colab-df-convert');\n",
              "      buttonEl.style.display =\n",
              "        google.colab.kernel.accessAllowed ? 'block' : 'none';\n",
              "\n",
              "      async function convertToInteractive(key) {\n",
              "        const element = document.querySelector('#df-0de5ac24-9e40-443c-8ef6-85b98bb5f834');\n",
              "        const dataTable =\n",
              "          await google.colab.kernel.invokeFunction('convertToInteractive',\n",
              "                                                    [key], {});\n",
              "        if (!dataTable) return;\n",
              "\n",
              "        const docLinkHtml = 'Like what you see? Visit the ' +\n",
              "          '<a target=\"_blank\" href=https://colab.research.google.com/notebooks/data_table.ipynb>data table notebook</a>'\n",
              "          + ' to learn more about interactive tables.';\n",
              "        element.innerHTML = '';\n",
              "        dataTable['output_type'] = 'display_data';\n",
              "        await google.colab.output.renderOutput(dataTable, element);\n",
              "        const docLink = document.createElement('div');\n",
              "        docLink.innerHTML = docLinkHtml;\n",
              "        element.appendChild(docLink);\n",
              "      }\n",
              "    </script>\n",
              "  </div>\n",
              "\n",
              "\n",
              "<div id=\"df-5535be77-f21c-48ce-9ea0-0d1ff7e29474\">\n",
              "  <button class=\"colab-df-quickchart\" onclick=\"quickchart('df-5535be77-f21c-48ce-9ea0-0d1ff7e29474')\"\n",
              "            title=\"Suggest charts\"\n",
              "            style=\"display:none;\">\n",
              "\n",
              "<svg xmlns=\"http://www.w3.org/2000/svg\" height=\"24px\"viewBox=\"0 0 24 24\"\n",
              "     width=\"24px\">\n",
              "    <g>\n",
              "        <path d=\"M19 3H5c-1.1 0-2 .9-2 2v14c0 1.1.9 2 2 2h14c1.1 0 2-.9 2-2V5c0-1.1-.9-2-2-2zM9 17H7v-7h2v7zm4 0h-2V7h2v10zm4 0h-2v-4h2v4z\"/>\n",
              "    </g>\n",
              "</svg>\n",
              "  </button>\n",
              "\n",
              "<style>\n",
              "  .colab-df-quickchart {\n",
              "      --bg-color: #E8F0FE;\n",
              "      --fill-color: #1967D2;\n",
              "      --hover-bg-color: #E2EBFA;\n",
              "      --hover-fill-color: #174EA6;\n",
              "      --disabled-fill-color: #AAA;\n",
              "      --disabled-bg-color: #DDD;\n",
              "  }\n",
              "\n",
              "  [theme=dark] .colab-df-quickchart {\n",
              "      --bg-color: #3B4455;\n",
              "      --fill-color: #D2E3FC;\n",
              "      --hover-bg-color: #434B5C;\n",
              "      --hover-fill-color: #FFFFFF;\n",
              "      --disabled-bg-color: #3B4455;\n",
              "      --disabled-fill-color: #666;\n",
              "  }\n",
              "\n",
              "  .colab-df-quickchart {\n",
              "    background-color: var(--bg-color);\n",
              "    border: none;\n",
              "    border-radius: 50%;\n",
              "    cursor: pointer;\n",
              "    display: none;\n",
              "    fill: var(--fill-color);\n",
              "    height: 32px;\n",
              "    padding: 0;\n",
              "    width: 32px;\n",
              "  }\n",
              "\n",
              "  .colab-df-quickchart:hover {\n",
              "    background-color: var(--hover-bg-color);\n",
              "    box-shadow: 0 1px 2px rgba(60, 64, 67, 0.3), 0 1px 3px 1px rgba(60, 64, 67, 0.15);\n",
              "    fill: var(--button-hover-fill-color);\n",
              "  }\n",
              "\n",
              "  .colab-df-quickchart-complete:disabled,\n",
              "  .colab-df-quickchart-complete:disabled:hover {\n",
              "    background-color: var(--disabled-bg-color);\n",
              "    fill: var(--disabled-fill-color);\n",
              "    box-shadow: none;\n",
              "  }\n",
              "\n",
              "  .colab-df-spinner {\n",
              "    border: 2px solid var(--fill-color);\n",
              "    border-color: transparent;\n",
              "    border-bottom-color: var(--fill-color);\n",
              "    animation:\n",
              "      spin 1s steps(1) infinite;\n",
              "  }\n",
              "\n",
              "  @keyframes spin {\n",
              "    0% {\n",
              "      border-color: transparent;\n",
              "      border-bottom-color: var(--fill-color);\n",
              "      border-left-color: var(--fill-color);\n",
              "    }\n",
              "    20% {\n",
              "      border-color: transparent;\n",
              "      border-left-color: var(--fill-color);\n",
              "      border-top-color: var(--fill-color);\n",
              "    }\n",
              "    30% {\n",
              "      border-color: transparent;\n",
              "      border-left-color: var(--fill-color);\n",
              "      border-top-color: var(--fill-color);\n",
              "      border-right-color: var(--fill-color);\n",
              "    }\n",
              "    40% {\n",
              "      border-color: transparent;\n",
              "      border-right-color: var(--fill-color);\n",
              "      border-top-color: var(--fill-color);\n",
              "    }\n",
              "    60% {\n",
              "      border-color: transparent;\n",
              "      border-right-color: var(--fill-color);\n",
              "    }\n",
              "    80% {\n",
              "      border-color: transparent;\n",
              "      border-right-color: var(--fill-color);\n",
              "      border-bottom-color: var(--fill-color);\n",
              "    }\n",
              "    90% {\n",
              "      border-color: transparent;\n",
              "      border-bottom-color: var(--fill-color);\n",
              "    }\n",
              "  }\n",
              "</style>\n",
              "\n",
              "  <script>\n",
              "    async function quickchart(key) {\n",
              "      const quickchartButtonEl =\n",
              "        document.querySelector('#' + key + ' button');\n",
              "      quickchartButtonEl.disabled = true;  // To prevent multiple clicks.\n",
              "      quickchartButtonEl.classList.add('colab-df-spinner');\n",
              "      try {\n",
              "        const charts = await google.colab.kernel.invokeFunction(\n",
              "            'suggestCharts', [key], {});\n",
              "      } catch (error) {\n",
              "        console.error('Error during call to suggestCharts:', error);\n",
              "      }\n",
              "      quickchartButtonEl.classList.remove('colab-df-spinner');\n",
              "      quickchartButtonEl.classList.add('colab-df-quickchart-complete');\n",
              "    }\n",
              "    (() => {\n",
              "      let quickchartButtonEl =\n",
              "        document.querySelector('#df-5535be77-f21c-48ce-9ea0-0d1ff7e29474 button');\n",
              "      quickchartButtonEl.style.display =\n",
              "        google.colab.kernel.accessAllowed ? 'block' : 'none';\n",
              "    })();\n",
              "  </script>\n",
              "</div>\n",
              "    </div>\n",
              "  </div>\n"
            ]
          },
          "metadata": {},
          "execution_count": 2
        }
      ],
      "source": [
        "data = pd.read_csv('/content/spam.csv', encoding='ISO-8859-1')\n",
        "data"
      ]
    },
    {
      "cell_type": "markdown",
      "source": [
        "#EDA to get Data ready for the Models"
      ],
      "metadata": {
        "id": "zijPZvWwOskV"
      }
    },
    {
      "cell_type": "code",
      "execution_count": null,
      "metadata": {
        "id": "B0pjv3VRuW4h"
      },
      "outputs": [],
      "source": [
        "data.loc[data.v1=='ham', 'v1'] = 0\n",
        "data.loc[data.v1=='spam', 'v1'] = 1"
      ]
    },
    {
      "cell_type": "code",
      "execution_count": null,
      "metadata": {
        "colab": {
          "base_uri": "https://localhost:8080/"
        },
        "id": "1OXGJ6EFpXFX",
        "outputId": "34df3d71-fc65-4782-bae4-b481c0277db6"
      },
      "outputs": [
        {
          "output_type": "execute_result",
          "data": {
            "text/plain": [
              "403"
            ]
          },
          "metadata": {},
          "execution_count": 4
        }
      ],
      "source": [
        "data.duplicated().sum()"
      ]
    },
    {
      "cell_type": "code",
      "execution_count": null,
      "metadata": {
        "id": "LXw1V122pk8J"
      },
      "outputs": [],
      "source": [
        "data.drop_duplicates(inplace=True)"
      ]
    },
    {
      "cell_type": "code",
      "execution_count": null,
      "metadata": {
        "colab": {
          "base_uri": "https://localhost:8080/"
        },
        "id": "z6QDoliip0tg",
        "outputId": "cdc26fe5-3b39-4cdc-cec1-02397c7d280b"
      },
      "outputs": [
        {
          "output_type": "stream",
          "name": "stdout",
          "text": [
            "<class 'pandas.core.frame.DataFrame'>\n",
            "Int64Index: 5169 entries, 0 to 5571\n",
            "Data columns (total 5 columns):\n",
            " #   Column      Non-Null Count  Dtype \n",
            "---  ------      --------------  ----- \n",
            " 0   v1          5169 non-null   object\n",
            " 1   v2          5169 non-null   object\n",
            " 2   Unnamed: 2  43 non-null     object\n",
            " 3   Unnamed: 3  10 non-null     object\n",
            " 4   Unnamed: 4  5 non-null      object\n",
            "dtypes: object(5)\n",
            "memory usage: 242.3+ KB\n"
          ]
        }
      ],
      "source": [
        "data.info()"
      ]
    },
    {
      "cell_type": "code",
      "execution_count": null,
      "metadata": {
        "colab": {
          "base_uri": "https://localhost:8080/"
        },
        "id": "9KZ1D_ODyCxP",
        "outputId": "9839613f-6181-4892-bc41-612d5e692628"
      },
      "outputs": [
        {
          "output_type": "execute_result",
          "data": {
            "text/plain": [
              "v1               2\n",
              "v2            5169\n",
              "Unnamed: 2      43\n",
              "Unnamed: 3      10\n",
              "Unnamed: 4       5\n",
              "dtype: int64"
            ]
          },
          "metadata": {},
          "execution_count": 7
        }
      ],
      "source": [
        "data.nunique()"
      ]
    },
    {
      "cell_type": "code",
      "source": [
        "_, ax = plt.subplots(1, 2, figsize=(10, 5))\n",
        "plot1 = sns.countplot(data, x='v1', ax=ax[0])\n",
        "# show count number above the bins\n",
        "for container in plot1.containers:\n",
        "    plot1.bar_label(container)\n",
        "\n",
        "data.v1.value_counts().plot(kind='pie', autopct='%1.1f%%', ax=ax[1])"
      ],
      "metadata": {
        "colab": {
          "base_uri": "https://localhost:8080/",
          "height": 483
        },
        "id": "SkFENyNagDog",
        "outputId": "8af2de1b-5c37-411c-a761-85b829a3e1bb"
      },
      "execution_count": null,
      "outputs": [
        {
          "output_type": "execute_result",
          "data": {
            "text/plain": [
              "<Axes: ylabel='v1'>"
            ]
          },
          "metadata": {},
          "execution_count": 48
        },
        {
          "output_type": "display_data",
          "data": {
            "text/plain": [
              "<Figure size 1000x500 with 2 Axes>"
            ],
            "image/png": "[encoded data removed]"
          },
          "metadata": {}
        }
      ]
    },
    {
      "cell_type": "code",
      "execution_count": null,
      "metadata": {
        "colab": {
          "base_uri": "https://localhost:8080/"
        },
        "id": "w9Zxmih0v-FA",
        "outputId": "9ceef68a-239b-4c67-9088-75bab13d6427"
      },
      "outputs": [
        {
          "output_type": "stream",
          "name": "stdout",
          "text": [
            "Requirement already satisfied: nltk in /usr/local/lib/python3.10/dist-packages (3.8.1)\n",
            "Requirement already satisfied: click in /usr/local/lib/python3.10/dist-packages (from nltk) (8.1.7)\n",
            "Requirement already satisfied: joblib in /usr/local/lib/python3.10/dist-packages (from nltk) (1.3.2)\n",
            "Requirement already satisfied: regex>=2021.8.3 in /usr/local/lib/python3.10/dist-packages (from nltk) (2023.6.3)\n",
            "Requirement already satisfied: tqdm in /usr/local/lib/python3.10/dist-packages (from nltk) (4.66.1)\n"
          ]
        }
      ],
      "source": [
        "pip install nltk"
      ]
    },
    {
      "cell_type": "code",
      "execution_count": null,
      "metadata": {
        "id": "nSt-JcAgwApU"
      },
      "outputs": [],
      "source": [
        "import nltk"
      ]
    },
    {
      "cell_type": "code",
      "execution_count": null,
      "metadata": {
        "colab": {
          "base_uri": "https://localhost:8080/"
        },
        "id": "E3PZibXdvg1j",
        "outputId": "210ce5d2-bc14-4add-de08-bf77e92fbf9e"
      },
      "outputs": [
        {
          "output_type": "stream",
          "name": "stderr",
          "text": [
            "[nltk_data] Downloading package punkt to /root/nltk_data...\n",
            "[nltk_data]   Unzipping tokenizers/punkt.zip.\n"
          ]
        },
        {
          "output_type": "execute_result",
          "data": {
            "text/plain": [
              "True"
            ]
          },
          "metadata": {},
          "execution_count": 8
        }
      ],
      "source": [
        "nltk.download('punkt')"
      ]
    },
    {
      "cell_type": "code",
      "execution_count": null,
      "metadata": {
        "id": "rgci0JEHvSNU"
      },
      "outputs": [],
      "source": [
        "data['sentences_count'] = data['v2'].apply(lambda x: len(nltk.sent_tokenize(x)))"
      ]
    },
    {
      "cell_type": "code",
      "execution_count": null,
      "metadata": {
        "id": "ciJrKHPFwU43"
      },
      "outputs": [],
      "source": [
        "data['words_count'] = data['v2'].apply(lambda x: len(nltk.word_tokenize(x)))"
      ]
    },
    {
      "cell_type": "code",
      "execution_count": null,
      "metadata": {
        "id": "xNgUYr7gwZOd"
      },
      "outputs": [],
      "source": [
        "data['characters_count'] = data['v2'].apply(len)"
      ]
    },
    {
      "cell_type": "code",
      "execution_count": null,
      "metadata": {
        "colab": {
          "base_uri": "https://localhost:8080/",
          "height": 206
        },
        "id": "pCt5H51_wihq",
        "outputId": "da2bbfb9-a891-4474-fac5-4debc424079d"
      },
      "outputs": [
        {
          "output_type": "execute_result",
          "data": {
            "text/plain": [
              "  v1                                                 v2 Unnamed: 2 Unnamed: 3  \\\n",
              "0  0  Go until jurong point, crazy.. Available only ...        NaN        NaN   \n",
              "1  0                      Ok lar... Joking wif u oni...        NaN        NaN   \n",
              "2  1  Free entry in 2 a wkly comp to win FA Cup fina...        NaN        NaN   \n",
              "3  0  U dun say so early hor... U c already then say...        NaN        NaN   \n",
              "4  0  Nah I don't think he goes to usf, he lives aro...        NaN        NaN   \n",
              "\n",
              "  Unnamed: 4  sentences_count  words_count  characters_count  \n",
              "0        NaN                2           24               111  \n",
              "1        NaN                2            8                29  \n",
              "2        NaN                2           37               155  \n",
              "3        NaN                1           13                49  \n",
              "4        NaN                1           15                61  "
            ],
            "text/html": [
              "\n",
              "  <div id=\"df-c97d6d46-ab93-43c1-9ca8-8b2e6189dab7\" class=\"colab-df-container\">\n",
              "    <div>\n",
              "<style scoped>\n",
              "    .dataframe tbody tr th:only-of-type {\n",
              "        vertical-align: middle;\n",
              "    }\n",
              "\n",
              "    .dataframe tbody tr th {\n",
              "        vertical-align: top;\n",
              "    }\n",
              "\n",
              "    .dataframe thead th {\n",
              "        text-align: right;\n",
              "    }\n",
              "</style>\n",
              "<table border=\"1\" class=\"dataframe\">\n",
              "  <thead>\n",
              "    <tr style=\"text-align: right;\">\n",
              "      <th></th>\n",
              "      <th>v1</th>\n",
              "      <th>v2</th>\n",
              "      <th>Unnamed: 2</th>\n",
              "      <th>Unnamed: 3</th>\n",
              "      <th>Unnamed: 4</th>\n",
              "      <th>sentences_count</th>\n",
              "      <th>words_count</th>\n",
              "      <th>characters_count</th>\n",
              "    </tr>\n",
              "  </thead>\n",
              "  <tbody>\n",
              "    <tr>\n",
              "      <th>0</th>\n",
              "      <td>0</td>\n",
              "      <td>Go until jurong point, crazy.. Available only ...</td>\n",
              "      <td>NaN</td>\n",
              "      <td>NaN</td>\n",
              "      <td>NaN</td>\n",
              "      <td>2</td>\n",
              "      <td>24</td>\n",
              "      <td>111</td>\n",
              "    </tr>\n",
              "    <tr>\n",
              "      <th>1</th>\n",
              "      <td>0</td>\n",
              "      <td>Ok lar... Joking wif u oni...</td>\n",
              "      <td>NaN</td>\n",
              "      <td>NaN</td>\n",
              "      <td>NaN</td>\n",
              "      <td>2</td>\n",
              "      <td>8</td>\n",
              "      <td>29</td>\n",
              "    </tr>\n",
              "    <tr>\n",
              "      <th>2</th>\n",
              "      <td>1</td>\n",
              "      <td>Free entry in 2 a wkly comp to win FA Cup fina...</td>\n",
              "      <td>NaN</td>\n",
              "      <td>NaN</td>\n",
              "      <td>NaN</td>\n",
              "      <td>2</td>\n",
              "      <td>37</td>\n",
              "      <td>155</td>\n",
              "    </tr>\n",
              "    <tr>\n",
              "      <th>3</th>\n",
              "      <td>0</td>\n",
              "      <td>U dun say so early hor... U c already then say...</td>\n",
              "      <td>NaN</td>\n",
              "      <td>NaN</td>\n",
              "      <td>NaN</td>\n",
              "      <td>1</td>\n",
              "      <td>13</td>\n",
              "      <td>49</td>\n",
              "    </tr>\n",
              "    <tr>\n",
              "      <th>4</th>\n",
              "      <td>0</td>\n",
              "      <td>Nah I don't think he goes to usf, he lives aro...</td>\n",
              "      <td>NaN</td>\n",
              "      <td>NaN</td>\n",
              "      <td>NaN</td>\n",
              "      <td>1</td>\n",
              "      <td>15</td>\n",
              "      <td>61</td>\n",
              "    </tr>\n",
              "  </tbody>\n",
              "</table>\n",
              "</div>\n",
              "    <div class=\"colab-df-buttons\">\n",
              "\n",
              "  <div class=\"colab-df-container\">\n",
              "    <button class=\"colab-df-convert\" onclick=\"convertToInteractive('df-c97d6d46-ab93-43c1-9ca8-8b2e6189dab7')\"\n",
              "            title=\"Convert this dataframe to an interactive table.\"\n",
              "            style=\"display:none;\">\n",
              "\n",
              "  <svg xmlns=\"http://www.w3.org/2000/svg\" height=\"24px\" viewBox=\"0 -960 960 960\">\n",
              "    <path d=\"M120-120v-720h720v720H120Zm60-500h600v-160H180v160Zm220 220h160v-160H400v160Zm0 220h160v-160H400v160ZM180-400h160v-160H180v160Zm440 0h160v-160H620v160ZM180-180h160v-160H180v160Zm440 0h160v-160H620v160Z\"/>\n",
              "  </svg>\n",
              "    </button>\n",
              "\n",
              "  <style>\n",
              "    .colab-df-container {\n",
              "      display:flex;\n",
              "      gap: 12px;\n",
              "    }\n",
              "\n",
              "    .colab-df-convert {\n",
              "      background-color: #E8F0FE;\n",
              "      border: none;\n",
              "      border-radius: 50%;\n",
              "      cursor: pointer;\n",
              "      display: none;\n",
              "      fill: #1967D2;\n",
              "      height: 32px;\n",
              "      padding: 0 0 0 0;\n",
              "      width: 32px;\n",
              "    }\n",
              "\n",
              "    .colab-df-convert:hover {\n",
              "      background-color: #E2EBFA;\n",
              "      box-shadow: 0px 1px 2px rgba(60, 64, 67, 0.3), 0px 1px 3px 1px rgba(60, 64, 67, 0.15);\n",
              "      fill: #174EA6;\n",
              "    }\n",
              "\n",
              "    .colab-df-buttons div {\n",
              "      margin-bottom: 4px;\n",
              "    }\n",
              "\n",
              "    [theme=dark] .colab-df-convert {\n",
              "      background-color: #3B4455;\n",
              "      fill: #D2E3FC;\n",
              "    }\n",
              "\n",
              "    [theme=dark] .colab-df-convert:hover {\n",
              "      background-color: #434B5C;\n",
              "      box-shadow: 0px 1px 3px 1px rgba(0, 0, 0, 0.15);\n",
              "      filter: drop-shadow(0px 1px 2px rgba(0, 0, 0, 0.3));\n",
              "      fill: #FFFFFF;\n",
              "    }\n",
              "  </style>\n",
              "\n",
              "    <script>\n",
              "      const buttonEl =\n",
              "        document.querySelector('#df-c97d6d46-ab93-43c1-9ca8-8b2e6189dab7 button.colab-df-convert');\n",
              "      buttonEl.style.display =\n",
              "        google.colab.kernel.accessAllowed ? 'block' : 'none';\n",
              "\n",
              "      async function convertToInteractive(key) {\n",
              "        const element = document.querySelector('#df-c97d6d46-ab93-43c1-9ca8-8b2e6189dab7');\n",
              "        const dataTable =\n",
              "          await google.colab.kernel.invokeFunction('convertToInteractive',\n",
              "                                                    [key], {});\n",
              "        if (!dataTable) return;\n",
              "\n",
              "        const docLinkHtml = 'Like what you see? Visit the ' +\n",
              "          '<a target=\"_blank\" href=https://colab.research.google.com/notebooks/data_table.ipynb>data table notebook</a>'\n",
              "          + ' to learn more about interactive tables.';\n",
              "        element.innerHTML = '';\n",
              "        dataTable['output_type'] = 'display_data';\n",
              "        await google.colab.output.renderOutput(dataTable, element);\n",
              "        const docLink = document.createElement('div');\n",
              "        docLink.innerHTML = docLinkHtml;\n",
              "        element.appendChild(docLink);\n",
              "      }\n",
              "    </script>\n",
              "  </div>\n",
              "\n",
              "\n",
              "<div id=\"df-fdb45d88-4d9a-40d5-a771-90086900802f\">\n",
              "  <button class=\"colab-df-quickchart\" onclick=\"quickchart('df-fdb45d88-4d9a-40d5-a771-90086900802f')\"\n",
              "            title=\"Suggest charts\"\n",
              "            style=\"display:none;\">\n",
              "\n",
              "<svg xmlns=\"http://www.w3.org/2000/svg\" height=\"24px\"viewBox=\"0 0 24 24\"\n",
              "     width=\"24px\">\n",
              "    <g>\n",
              "        <path d=\"M19 3H5c-1.1 0-2 .9-2 2v14c0 1.1.9 2 2 2h14c1.1 0 2-.9 2-2V5c0-1.1-.9-2-2-2zM9 17H7v-7h2v7zm4 0h-2V7h2v10zm4 0h-2v-4h2v4z\"/>\n",
              "    </g>\n",
              "</svg>\n",
              "  </button>\n",
              "\n",
              "<style>\n",
              "  .colab-df-quickchart {\n",
              "      --bg-color: #E8F0FE;\n",
              "      --fill-color: #1967D2;\n",
              "      --hover-bg-color: #E2EBFA;\n",
              "      --hover-fill-color: #174EA6;\n",
              "      --disabled-fill-color: #AAA;\n",
              "      --disabled-bg-color: #DDD;\n",
              "  }\n",
              "\n",
              "  [theme=dark] .colab-df-quickchart {\n",
              "      --bg-color: #3B4455;\n",
              "      --fill-color: #D2E3FC;\n",
              "      --hover-bg-color: #434B5C;\n",
              "      --hover-fill-color: #FFFFFF;\n",
              "      --disabled-bg-color: #3B4455;\n",
              "      --disabled-fill-color: #666;\n",
              "  }\n",
              "\n",
              "  .colab-df-quickchart {\n",
              "    background-color: var(--bg-color);\n",
              "    border: none;\n",
              "    border-radius: 50%;\n",
              "    cursor: pointer;\n",
              "    display: none;\n",
              "    fill: var(--fill-color);\n",
              "    height: 32px;\n",
              "    padding: 0;\n",
              "    width: 32px;\n",
              "  }\n",
              "\n",
              "  .colab-df-quickchart:hover {\n",
              "    background-color: var(--hover-bg-color);\n",
              "    box-shadow: 0 1px 2px rgba(60, 64, 67, 0.3), 0 1px 3px 1px rgba(60, 64, 67, 0.15);\n",
              "    fill: var(--button-hover-fill-color);\n",
              "  }\n",
              "\n",
              "  .colab-df-quickchart-complete:disabled,\n",
              "  .colab-df-quickchart-complete:disabled:hover {\n",
              "    background-color: var(--disabled-bg-color);\n",
              "    fill: var(--disabled-fill-color);\n",
              "    box-shadow: none;\n",
              "  }\n",
              "\n",
              "  .colab-df-spinner {\n",
              "    border: 2px solid var(--fill-color);\n",
              "    border-color: transparent;\n",
              "    border-bottom-color: var(--fill-color);\n",
              "    animation:\n",
              "      spin 1s steps(1) infinite;\n",
              "  }\n",
              "\n",
              "  @keyframes spin {\n",
              "    0% {\n",
              "      border-color: transparent;\n",
              "      border-bottom-color: var(--fill-color);\n",
              "      border-left-color: var(--fill-color);\n",
              "    }\n",
              "    20% {\n",
              "      border-color: transparent;\n",
              "      border-left-color: var(--fill-color);\n",
              "      border-top-color: var(--fill-color);\n",
              "    }\n",
              "    30% {\n",
              "      border-color: transparent;\n",
              "      border-left-color: var(--fill-color);\n",
              "      border-top-color: var(--fill-color);\n",
              "      border-right-color: var(--fill-color);\n",
              "    }\n",
              "    40% {\n",
              "      border-color: transparent;\n",
              "      border-right-color: var(--fill-color);\n",
              "      border-top-color: var(--fill-color);\n",
              "    }\n",
              "    60% {\n",
              "      border-color: transparent;\n",
              "      border-right-color: var(--fill-color);\n",
              "    }\n",
              "    80% {\n",
              "      border-color: transparent;\n",
              "      border-right-color: var(--fill-color);\n",
              "      border-bottom-color: var(--fill-color);\n",
              "    }\n",
              "    90% {\n",
              "      border-color: transparent;\n",
              "      border-bottom-color: var(--fill-color);\n",
              "    }\n",
              "  }\n",
              "</style>\n",
              "\n",
              "  <script>\n",
              "    async function quickchart(key) {\n",
              "      const quickchartButtonEl =\n",
              "        document.querySelector('#' + key + ' button');\n",
              "      quickchartButtonEl.disabled = true;  // To prevent multiple clicks.\n",
              "      quickchartButtonEl.classList.add('colab-df-spinner');\n",
              "      try {\n",
              "        const charts = await google.colab.kernel.invokeFunction(\n",
              "            'suggestCharts', [key], {});\n",
              "      } catch (error) {\n",
              "        console.error('Error during call to suggestCharts:', error);\n",
              "      }\n",
              "      quickchartButtonEl.classList.remove('colab-df-spinner');\n",
              "      quickchartButtonEl.classList.add('colab-df-quickchart-complete');\n",
              "    }\n",
              "    (() => {\n",
              "      let quickchartButtonEl =\n",
              "        document.querySelector('#df-fdb45d88-4d9a-40d5-a771-90086900802f button');\n",
              "      quickchartButtonEl.style.display =\n",
              "        google.colab.kernel.accessAllowed ? 'block' : 'none';\n",
              "    })();\n",
              "  </script>\n",
              "</div>\n",
              "    </div>\n",
              "  </div>\n"
            ]
          },
          "metadata": {},
          "execution_count": 12
        }
      ],
      "source": [
        "data.head()"
      ]
    },
    {
      "cell_type": "code",
      "execution_count": null,
      "metadata": {
        "id": "vGJkh2eyUuzv"
      },
      "outputs": [],
      "source": [
        "from sklearn.feature_extraction.text import CountVectorizer\n",
        "cv = CountVectorizer()\n",
        "x = cv.fit_transform(data['v2']).toarray()\n",
        "y = data['v1'].values"
      ]
    },
    {
      "cell_type": "markdown",
      "source": [
        "#Splitting Data To train and test"
      ],
      "metadata": {
        "id": "CUZffoFTO1iu"
      }
    },
    {
      "cell_type": "code",
      "execution_count": null,
      "metadata": {
        "id": "W0thbnMhFrLI"
      },
      "outputs": [],
      "source": [
        "from sklearn.model_selection import train_test_split\n",
        "x_train,x_test,y_train,y_test = train_test_split(x,y,test_size=0.2, random_state=0)"
      ]
    },
    {
      "cell_type": "code",
      "execution_count": null,
      "metadata": {
        "id": "b51AwPwAxv4a"
      },
      "outputs": [],
      "source": [
        "y_train = y_train.astype(int)\n",
        "y_test = y_test.astype(int)"
      ]
    },
    {
      "cell_type": "markdown",
      "source": [
        "#Here we gonna apply lazypredict to know what are the best models to use for this data"
      ],
      "metadata": {
        "id": "227gxNPuO8P1"
      }
    },
    {
      "cell_type": "code",
      "execution_count": null,
      "metadata": {
        "colab": {
          "base_uri": "https://localhost:8080/"
        },
        "id": "5tK4vGBo0MpG",
        "outputId": "96b17d68-307f-4ecf-97f6-08de92338c3b"
      },
      "outputs": [
        {
          "output_type": "stream",
          "name": "stdout",
          "text": [
            "Collecting lazypredict\n",
            "  Downloading lazypredict-0.2.12-py2.py3-none-any.whl (12 kB)\n",
            "Requirement already satisfied: click in /usr/local/lib/python3.10/dist-packages (from lazypredict) (8.1.7)\n",
            "Requirement already satisfied: scikit-learn in /usr/local/lib/python3.10/dist-packages (from lazypredict) (1.2.2)\n",
            "Requirement already satisfied: pandas in /usr/local/lib/python3.10/dist-packages (from lazypredict) (1.5.3)\n",
            "Requirement already satisfied: tqdm in /usr/local/lib/python3.10/dist-packages (from lazypredict) (4.66.1)\n",
            "Requirement already satisfied: joblib in /usr/local/lib/python3.10/dist-packages (from lazypredict) (1.3.2)\n",
            "Requirement already satisfied: lightgbm in /usr/local/lib/python3.10/dist-packages (from lazypredict) (4.1.0)\n",
            "Requirement already satisfied: xgboost in /usr/local/lib/python3.10/dist-packages (from lazypredict) (2.0.2)\n",
            "Requirement already satisfied: numpy in /usr/local/lib/python3.10/dist-packages (from lightgbm->lazypredict) (1.23.5)\n",
            "Requirement already satisfied: scipy in /usr/local/lib/python3.10/dist-packages (from lightgbm->lazypredict) (1.11.4)\n",
            "Requirement already satisfied: python-dateutil>=2.8.1 in /usr/local/lib/python3.10/dist-packages (from pandas->lazypredict) (2.8.2)\n",
            "Requirement already satisfied: pytz>=2020.1 in /usr/local/lib/python3.10/dist-packages (from pandas->lazypredict) (2023.3.post1)\n",
            "Requirement already satisfied: threadpoolctl>=2.0.0 in /usr/local/lib/python3.10/dist-packages (from scikit-learn->lazypredict) (3.2.0)\n",
            "Requirement already satisfied: six>=1.5 in /usr/local/lib/python3.10/dist-packages (from python-dateutil>=2.8.1->pandas->lazypredict) (1.16.0)\n",
            "Installing collected packages: lazypredict\n",
            "Successfully installed lazypredict-0.2.12\n"
          ]
        }
      ],
      "source": [
        "!pip install lazypredict"
      ]
    },
    {
      "cell_type": "code",
      "execution_count": null,
      "metadata": {
        "id": "kbaAFOy10XvU"
      },
      "outputs": [],
      "source": [
        "import lazypredict"
      ]
    },
    {
      "cell_type": "code",
      "execution_count": null,
      "metadata": {
        "id": "w1RcXolk0iI0"
      },
      "outputs": [],
      "source": [
        "from lazypredict.Supervised import LazyClassifier"
      ]
    },
    {
      "cell_type": "code",
      "execution_count": null,
      "metadata": {
        "colab": {
          "base_uri": "https://localhost:8080/"
        },
        "id": "sSPdpXAB0nqa",
        "outputId": "09340954-5cd6-4845-ebd1-c9d1d3407fb2"
      },
      "outputs": [
        {
          "name": "stderr",
          "output_type": "stream",
          "text": [
            " 97%|█████████▋| 28/29 [13:53<00:26, 26.25s/it]"
          ]
        },
        {
          "name": "stdout",
          "output_type": "stream",
          "text": [
            "[LightGBM] [Info] Number of positive: 504, number of negative: 3631\n",
            "[LightGBM] [Info] Auto-choosing row-wise multi-threading, the overhead of testing was 0.012626 seconds.\n",
            "You can set `force_row_wise=true` to remove the overhead.\n",
            "And if memory is not enough, you can set `force_col_wise=true`.\n",
            "[LightGBM] [Info] Total Bins 1702\n",
            "[LightGBM] [Info] Number of data points in the train set: 4135, number of used features: 431\n",
            "[LightGBM] [Info] [binary:BoostFromScore]: pavg=0.121886 -> initscore=-1.974687\n",
            "[LightGBM] [Info] Start training from score -1.974687\n"
          ]
        },
        {
          "name": "stderr",
          "output_type": "stream",
          "text": [
            "100%|██████████| 29/29 [13:59<00:00, 28.95s/it]"
          ]
        },
        {
          "name": "stdout",
          "output_type": "stream",
          "text": [
            "                               Accuracy  Balanced Accuracy  ROC AUC  F1 Score  \\\n",
            "Model                                                                           \n",
            "Perceptron                         0.97               0.95     0.95      0.97   \n",
            "LGBMClassifier                     0.98               0.94     0.94      0.98   \n",
            "PassiveAggressiveClassifier        0.98               0.94     0.94      0.98   \n",
            "LinearSVC                          0.98               0.94     0.94      0.98   \n",
            "XGBClassifier                      0.98               0.94     0.94      0.98   \n",
            "BaggingClassifier                  0.97               0.93     0.93      0.97   \n",
            "DecisionTreeClassifier             0.97               0.93     0.93      0.97   \n",
            "BernoulliNB                        0.98               0.93     0.93      0.98   \n",
            "ExtraTreesClassifier               0.98               0.92     0.92      0.98   \n",
            "AdaBoostClassifier                 0.97               0.92     0.92      0.97   \n",
            "RandomForestClassifier             0.98               0.92     0.92      0.98   \n",
            "LogisticRegression                 0.97               0.88     0.88      0.96   \n",
            "NearestCentroid                    0.97               0.88     0.88      0.96   \n",
            "ExtraTreeClassifier                0.95               0.87     0.87      0.95   \n",
            "LinearDiscriminantAnalysis         0.95               0.86     0.86      0.95   \n",
            "GaussianNB                         0.88               0.86     0.86      0.89   \n",
            "RidgeClassifierCV                  0.96               0.86     0.86      0.95   \n",
            "RidgeClassifier                    0.95               0.86     0.86      0.95   \n",
            "CalibratedClassifierCV             0.93               0.76     0.76      0.92   \n",
            "SVC                                0.92               0.73     0.73      0.91   \n",
            "SGDClassifier                      0.91               0.70     0.70      0.90   \n",
            "QuadraticDiscriminantAnalysis      0.42               0.66     0.66      0.47   \n",
            "LabelPropagation                   0.87               0.53     0.53      0.81   \n",
            "LabelSpreading                     0.87               0.53     0.53      0.81   \n",
            "KNeighborsClassifier               0.86               0.52     0.52      0.80   \n",
            "DummyClassifier                    0.86               0.50     0.50      0.79   \n",
            "\n",
            "                               Time Taken  \n",
            "Model                                      \n",
            "Perceptron                           3.34  \n",
            "LGBMClassifier                       6.34  \n",
            "PassiveAggressiveClassifier          3.22  \n",
            "LinearSVC                           30.52  \n",
            "XGBClassifier                       10.44  \n",
            "BaggingClassifier                   60.20  \n",
            "DecisionTreeClassifier              16.71  \n",
            "BernoulliNB                          2.24  \n",
            "ExtraTreesClassifier                49.22  \n",
            "AdaBoostClassifier                  44.19  \n",
            "RandomForestClassifier              23.05  \n",
            "LogisticRegression                   5.86  \n",
            "NearestCentroid                      1.75  \n",
            "ExtraTreeClassifier                  2.57  \n",
            "LinearDiscriminantAnalysis         109.74  \n",
            "GaussianNB                           2.01  \n",
            "RidgeClassifierCV                   35.00  \n",
            "RidgeClassifier                     11.97  \n",
            "CalibratedClassifierCV             183.60  \n",
            "SVC                                 97.74  \n",
            "SGDClassifier                        3.66  \n",
            "QuadraticDiscriminantAnalysis      100.45  \n",
            "LabelPropagation                     9.66  \n",
            "LabelSpreading                      13.52  \n",
            "KNeighborsClassifier                 5.82  \n",
            "DummyClassifier                      1.64  \n"
          ]
        },
        {
          "name": "stderr",
          "output_type": "stream",
          "text": [
            "\n"
          ]
        }
      ],
      "source": [
        "clf = LazyClassifier(verbose=0,ignore_warnings=True, custom_metric=None)\n",
        "models,predictions = clf.fit(x_train, x_test, y_train, y_test)\n",
        "\n",
        "print(models)"
      ]
    },
    {
      "cell_type": "markdown",
      "source": [
        "#Applying Models"
      ],
      "metadata": {
        "id": "OWuUzLEBtyjG"
      }
    },
    {
      "cell_type": "markdown",
      "source": [
        "#Naive-Base(BernolliNB-Model)"
      ],
      "metadata": {
        "id": "9mHskhDCuALU"
      }
    },
    {
      "cell_type": "code",
      "execution_count": null,
      "metadata": {
        "colab": {
          "base_uri": "https://localhost:8080/"
        },
        "id": "Q-OdW1m6wudA",
        "outputId": "d99ade81-da09-41cf-f8d6-28c6d2649dc2"
      },
      "outputs": [
        {
          "name": "stdout",
          "output_type": "stream",
          "text": [
            "Fitting 5 folds for each of 10 candidates, totalling 50 fits\n",
            "[CV] END .......................alpha=0.0001, fit_prior=True; total time=   0.9s\n",
            "[CV] END .......................alpha=0.0001, fit_prior=True; total time=   1.3s\n",
            "[CV] END .......................alpha=0.0001, fit_prior=True; total time=   2.4s\n",
            "[CV] END .......................alpha=0.0001, fit_prior=True; total time=   1.8s\n",
            "[CV] END .......................alpha=0.0001, fit_prior=True; total time=   1.2s\n",
            "[CV] END ......................alpha=0.0001, fit_prior=False; total time=   1.0s\n",
            "[CV] END ......................alpha=0.0001, fit_prior=False; total time=   1.3s\n",
            "[CV] END ......................alpha=0.0001, fit_prior=False; total time=   0.7s\n",
            "[CV] END ......................alpha=0.0001, fit_prior=False; total time=   0.7s\n",
            "[CV] END ......................alpha=0.0001, fit_prior=False; total time=   0.6s\n",
            "[CV] END ........................alpha=0.001, fit_prior=True; total time=   0.8s\n",
            "[CV] END ........................alpha=0.001, fit_prior=True; total time=   0.9s\n",
            "[CV] END ........................alpha=0.001, fit_prior=True; total time=   0.8s\n",
            "[CV] END ........................alpha=0.001, fit_prior=True; total time=   0.7s\n",
            "[CV] END ........................alpha=0.001, fit_prior=True; total time=   0.6s\n",
            "[CV] END .......................alpha=0.001, fit_prior=False; total time=   0.7s\n",
            "[CV] END .......................alpha=0.001, fit_prior=False; total time=   0.6s\n",
            "[CV] END .......................alpha=0.001, fit_prior=False; total time=   0.7s\n",
            "[CV] END .......................alpha=0.001, fit_prior=False; total time=   0.7s\n",
            "[CV] END .......................alpha=0.001, fit_prior=False; total time=   0.7s\n",
            "[CV] END .........................alpha=0.01, fit_prior=True; total time=   0.7s\n",
            "[CV] END .........................alpha=0.01, fit_prior=True; total time=   0.7s\n",
            "[CV] END .........................alpha=0.01, fit_prior=True; total time=   0.8s\n",
            "[CV] END .........................alpha=0.01, fit_prior=True; total time=   1.0s\n",
            "[CV] END .........................alpha=0.01, fit_prior=True; total time=   1.7s\n",
            "[CV] END ........................alpha=0.01, fit_prior=False; total time=   1.3s\n",
            "[CV] END ........................alpha=0.01, fit_prior=False; total time=   1.1s\n",
            "[CV] END ........................alpha=0.01, fit_prior=False; total time=   0.9s\n",
            "[CV] END ........................alpha=0.01, fit_prior=False; total time=   0.8s\n",
            "[CV] END ........................alpha=0.01, fit_prior=False; total time=   0.9s\n",
            "[CV] END ..........................alpha=0.1, fit_prior=True; total time=   1.1s\n",
            "[CV] END ..........................alpha=0.1, fit_prior=True; total time=   2.0s\n",
            "[CV] END ..........................alpha=0.1, fit_prior=True; total time=   0.8s\n",
            "[CV] END ..........................alpha=0.1, fit_prior=True; total time=   1.0s\n",
            "[CV] END ..........................alpha=0.1, fit_prior=True; total time=   0.6s\n",
            "[CV] END .........................alpha=0.1, fit_prior=False; total time=   0.7s\n",
            "[CV] END .........................alpha=0.1, fit_prior=False; total time=   0.7s\n",
            "[CV] END .........................alpha=0.1, fit_prior=False; total time=   0.6s\n",
            "[CV] END .........................alpha=0.1, fit_prior=False; total time=   0.7s\n",
            "[CV] END .........................alpha=0.1, fit_prior=False; total time=   0.7s\n",
            "[CV] END ..........................alpha=1.0, fit_prior=True; total time=   0.7s\n",
            "[CV] END ..........................alpha=1.0, fit_prior=True; total time=   0.6s\n",
            "[CV] END ..........................alpha=1.0, fit_prior=True; total time=   0.6s\n",
            "[CV] END ..........................alpha=1.0, fit_prior=True; total time=   0.8s\n",
            "[CV] END ..........................alpha=1.0, fit_prior=True; total time=   0.9s\n",
            "[CV] END .........................alpha=1.0, fit_prior=False; total time=   0.8s\n",
            "[CV] END .........................alpha=1.0, fit_prior=False; total time=   0.8s\n",
            "[CV] END .........................alpha=1.0, fit_prior=False; total time=   0.6s\n",
            "[CV] END .........................alpha=1.0, fit_prior=False; total time=   0.6s\n",
            "[CV] END .........................alpha=1.0, fit_prior=False; total time=   0.6s\n",
            "Best paramters {'alpha': 0.001, 'fit_prior': True}\n"
          ]
        }
      ],
      "source": [
        "from sklearn.model_selection import GridSearchCV\n",
        "param_grid = {\n",
        "    'alpha': [0.0001, 0.001, 0.01, 0.1, 1.0],\n",
        "    'fit_prior': [True, False]\n",
        "}\n",
        "NB_model = BernoulliNB()\n",
        "\n",
        "g_search = GridSearchCV(estimator=NB_model, param_grid=param_grid,return_train_score=True, verbose=2)\n",
        "\n",
        "g_search.fit(x_train,y_train)\n",
        "print('Best paramters',g_search.best_params_)"
      ]
    },
    {
      "cell_type": "code",
      "execution_count": null,
      "metadata": {
        "id": "bEjIPQSZFOwM"
      },
      "outputs": [],
      "source": [
        "from sklearn.naive_bayes import BernoulliNB\n",
        "NB_model = BernoulliNB(alpha= 0.001, fit_prior= True)\n",
        "\n",
        "NB_model.fit(x_train,y_train)\n",
        "\n",
        "y_pred = NB_model.predict(x_test)"
      ]
    },
    {
      "cell_type": "code",
      "execution_count": null,
      "metadata": {
        "colab": {
          "base_uri": "https://localhost:8080/"
        },
        "id": "GijOUdWdHGv6",
        "outputId": "d3b42926-a83b-4b01-aca5-a7c4971c8220"
      },
      "outputs": [
        {
          "output_type": "stream",
          "name": "stdout",
          "text": [
            "              precision    recall  f1-score   support\n",
            "\n",
            "           0       0.98      1.00      0.99       885\n",
            "           1       0.97      0.91      0.94       149\n",
            "\n",
            "    accuracy                           0.98      1034\n",
            "   macro avg       0.98      0.95      0.96      1034\n",
            "weighted avg       0.98      0.98      0.98      1034\n",
            "\n"
          ]
        }
      ],
      "source": [
        "print(metrics.classification_report(y_test,y_pred))"
      ]
    },
    {
      "cell_type": "code",
      "execution_count": null,
      "metadata": {
        "colab": {
          "base_uri": "https://localhost:8080/",
          "height": 448
        },
        "id": "MpX8CuJgobjM",
        "outputId": "dc8bef16-cdd7-48f6-f53d-418447958f31"
      },
      "outputs": [
        {
          "output_type": "execute_result",
          "data": {
            "text/plain": [
              "<Axes: >"
            ]
          },
          "metadata": {},
          "execution_count": 27
        },
        {
          "output_type": "display_data",
          "data": {
            "text/plain": [
              "<Figure size 640x480 with 2 Axes>"
            ],
            "image/png": "[encoded data removed]"
          },
          "metadata": {}
        }
      ],
      "source": [
        "conf_mat = metrics.confusion_matrix(y_test,y_pred)\n",
        "\n",
        "sns.heatmap(conf_mat,annot=True)"
      ]
    },
    {
      "cell_type": "code",
      "execution_count": null,
      "metadata": {
        "colab": {
          "base_uri": "https://localhost:8080/"
        },
        "id": "39eH9KMLpaz-",
        "outputId": "cfc70b8f-3936-40f7-f869-01a02ed455b6"
      },
      "outputs": [
        {
          "output_type": "stream",
          "name": "stdout",
          "text": [
            "NB model accuracy = 98.259 %\n",
            "NB model f1_score = 93.75 %\n",
            "NB model precision  = 97.122 %\n",
            "NB model recall = 90.604 %\n"
          ]
        }
      ],
      "source": [
        "accuracy = metrics.accuracy_score(y_test,y_pred)\n",
        "f1_score = metrics.f1_score(y_test,y_pred)\n",
        "precision = metrics.precision_score(y_test,y_pred)\n",
        "recall = metrics.recall_score(y_test,y_pred)\n",
        "\n",
        "\n",
        "print(f\"NB model accuracy = {100* accuracy:.5} %\")\n",
        "print(f\"NB model f1_score = {100* f1_score:.5} %\")\n",
        "print(f\"NB model precision  = {100* precision:.5} %\")\n",
        "print(f\"NB model recall = {100* recall:.5} %\")"
      ]
    },
    {
      "cell_type": "code",
      "source": [
        "y_pred_propa = NB_model.predict_proba(x_test)\n",
        "\n",
        "fpr,tpr,thresholds = metrics.roc_curve(y_test,y_pred_propa[:,1])\n",
        "\n",
        "plt.plot(fpr,tpr)\n",
        "plt.plot([0,1],[0,1],'--')\n",
        "plt.title(\"ROC_curve\")"
      ],
      "metadata": {
        "colab": {
          "base_uri": "https://localhost:8080/",
          "height": 470
        },
        "id": "6Et5qbxxp79i",
        "outputId": "f07696fa-c342-4c8a-8eb0-4ed1597a57b1"
      },
      "execution_count": null,
      "outputs": [
        {
          "output_type": "execute_result",
          "data": {
            "text/plain": [
              "Text(0.5, 1.0, 'ROC_curve')"
            ]
          },
          "metadata": {},
          "execution_count": 29
        },
        {
          "output_type": "display_data",
          "data": {
            "text/plain": [
              "<Figure size 640x480 with 1 Axes>"
            ],
            "image/png": "[encoded data removed]"
          },
          "metadata": {}
        }
      ]
    },
    {
      "cell_type": "code",
      "source": [
        "AUC = metrics.roc_auc_score(y_test,y_pred_propa[:,1])\n",
        "\n",
        "print(f\"NB model AUC = {100* AUC:.5} %\")"
      ],
      "metadata": {
        "colab": {
          "base_uri": "https://localhost:8080/"
        },
        "id": "SKLX_PSvrdNF",
        "outputId": "8b67fb25-86e0-48a3-9425-606041b274b1"
      },
      "execution_count": null,
      "outputs": [
        {
          "output_type": "stream",
          "name": "stdout",
          "text": [
            "NB model AUC = 98.248 %\n"
          ]
        }
      ]
    },
    {
      "cell_type": "markdown",
      "source": [
        "#After Applying Over Sampling(Smote)"
      ],
      "metadata": {
        "id": "u6g74NWFlfTA"
      }
    },
    {
      "cell_type": "code",
      "execution_count": null,
      "metadata": {
        "id": "PrpFKUZr0Ba_"
      },
      "outputs": [],
      "source": [
        "from imblearn.over_sampling import SMOTE\n",
        "\n",
        "smote = SMOTE(random_state=0)\n",
        "\n",
        "x_train_resampled, y_train_resampled = smote.fit_resample(x_train, y_train)"
      ]
    },
    {
      "cell_type": "code",
      "execution_count": null,
      "metadata": {
        "colab": {
          "background_save": true,
          "base_uri": "https://localhost:8080/"
        },
        "id": "tdWuUaSKEqgF",
        "outputId": "5aa9b56b-bed5-4db6-acf9-13b339092689"
      },
      "outputs": [
        {
          "name": "stdout",
          "output_type": "stream",
          "text": [
            "Fitting 5 folds for each of 10 candidates, totalling 50 fits\n",
            "[CV] END .......................alpha=0.0001, fit_prior=True; total time=   1.3s\n",
            "[CV] END .......................alpha=0.0001, fit_prior=True; total time=   1.1s\n",
            "[CV] END .......................alpha=0.0001, fit_prior=True; total time=   1.3s\n",
            "[CV] END .......................alpha=0.0001, fit_prior=True; total time=   1.3s\n",
            "[CV] END .......................alpha=0.0001, fit_prior=True; total time=   1.5s\n",
            "[CV] END ......................alpha=0.0001, fit_prior=False; total time=   1.5s\n",
            "[CV] END ......................alpha=0.0001, fit_prior=False; total time=   1.9s\n",
            "[CV] END ......................alpha=0.0001, fit_prior=False; total time=   1.2s\n",
            "[CV] END ......................alpha=0.0001, fit_prior=False; total time=   1.5s\n",
            "[CV] END ......................alpha=0.0001, fit_prior=False; total time=   1.3s\n",
            "[CV] END ........................alpha=0.001, fit_prior=True; total time=   1.4s\n",
            "[CV] END ........................alpha=0.001, fit_prior=True; total time=   1.2s\n",
            "[CV] END ........................alpha=0.001, fit_prior=True; total time=   1.6s\n",
            "[CV] END ........................alpha=0.001, fit_prior=True; total time=   1.5s\n",
            "[CV] END ........................alpha=0.001, fit_prior=True; total time=   1.4s\n",
            "[CV] END .......................alpha=0.001, fit_prior=False; total time=   1.9s\n",
            "[CV] END .......................alpha=0.001, fit_prior=False; total time=   1.5s\n",
            "[CV] END .......................alpha=0.001, fit_prior=False; total time=   1.3s\n",
            "[CV] END .......................alpha=0.001, fit_prior=False; total time=   1.8s\n",
            "[CV] END .......................alpha=0.001, fit_prior=False; total time=   1.2s\n",
            "[CV] END .........................alpha=0.01, fit_prior=True; total time=   1.5s\n",
            "[CV] END .........................alpha=0.01, fit_prior=True; total time=   1.3s\n",
            "[CV] END .........................alpha=0.01, fit_prior=True; total time=   1.1s\n",
            "[CV] END .........................alpha=0.01, fit_prior=True; total time=   1.4s\n",
            "[CV] END .........................alpha=0.01, fit_prior=True; total time=   1.7s\n",
            "[CV] END ........................alpha=0.01, fit_prior=False; total time=   1.5s\n",
            "[CV] END ........................alpha=0.01, fit_prior=False; total time=   1.5s\n",
            "[CV] END ........................alpha=0.01, fit_prior=False; total time=   1.2s\n",
            "[CV] END ........................alpha=0.01, fit_prior=False; total time=   1.3s\n",
            "[CV] END ........................alpha=0.01, fit_prior=False; total time=   1.1s\n",
            "[CV] END ..........................alpha=0.1, fit_prior=True; total time=   1.5s\n",
            "[CV] END ..........................alpha=0.1, fit_prior=True; total time=   1.9s\n",
            "[CV] END ..........................alpha=0.1, fit_prior=True; total time=   1.4s\n",
            "[CV] END ..........................alpha=0.1, fit_prior=True; total time=   1.4s\n",
            "[CV] END ..........................alpha=0.1, fit_prior=True; total time=   1.3s\n",
            "[CV] END .........................alpha=0.1, fit_prior=False; total time=   1.3s\n",
            "[CV] END .........................alpha=0.1, fit_prior=False; total time=   1.3s\n",
            "[CV] END .........................alpha=0.1, fit_prior=False; total time=   1.9s\n",
            "[CV] END .........................alpha=0.1, fit_prior=False; total time=   1.8s\n",
            "[CV] END .........................alpha=0.1, fit_prior=False; total time=   1.2s\n",
            "[CV] END ..........................alpha=1.0, fit_prior=True; total time=   1.2s\n",
            "[CV] END ..........................alpha=1.0, fit_prior=True; total time=   1.5s\n",
            "[CV] END ..........................alpha=1.0, fit_prior=True; total time=   1.5s\n",
            "[CV] END ..........................alpha=1.0, fit_prior=True; total time=   3.6s\n",
            "[CV] END ..........................alpha=1.0, fit_prior=True; total time=   1.9s\n",
            "[CV] END .........................alpha=1.0, fit_prior=False; total time=   1.2s\n",
            "[CV] END .........................alpha=1.0, fit_prior=False; total time=   1.3s\n",
            "[CV] END .........................alpha=1.0, fit_prior=False; total time=   1.2s\n",
            "[CV] END .........................alpha=1.0, fit_prior=False; total time=   1.8s\n",
            "[CV] END .........................alpha=1.0, fit_prior=False; total time=   1.5s\n",
            "Best paramters {'alpha': 0.1, 'fit_prior': True}\n"
          ]
        }
      ],
      "source": [
        "from sklearn.model_selection import GridSearchCV\n",
        "param_grid = {\n",
        "    'alpha': [0.0001, 0.001, 0.01, 0.1, 1.0],\n",
        "    'fit_prior': [True, False]\n",
        "}\n",
        "NB_model = BernoulliNB()\n",
        "\n",
        "g_search = GridSearchCV(estimator=NB_model, param_grid=param_grid,return_train_score=True, verbose=2)\n",
        "\n",
        "g_search.fit(x_train_resampled,y_train_resampled)\n",
        "print('Best paramters',g_search.best_params_)"
      ]
    },
    {
      "cell_type": "code",
      "execution_count": null,
      "metadata": {
        "id": "uCx7ZbhE4uBj"
      },
      "outputs": [],
      "source": [
        "from sklearn.naive_bayes import BernoulliNB\n",
        "NB_model = BernoulliNB(alpha= 0.1, fit_prior= True)\n",
        "\n",
        "NB_model.fit(x_train_resampled,y_train_resampled)\n",
        "\n",
        "y_pred = NB_model.predict(x_test)"
      ]
    },
    {
      "cell_type": "code",
      "source": [
        "print(metrics.classification_report(y_test,y_pred))"
      ],
      "metadata": {
        "colab": {
          "base_uri": "https://localhost:8080/"
        },
        "id": "3b-5vfLuihXa",
        "outputId": "62fbe91f-58f2-4b68-d982-949e06364add"
      },
      "execution_count": null,
      "outputs": [
        {
          "output_type": "stream",
          "name": "stdout",
          "text": [
            "              precision    recall  f1-score   support\n",
            "\n",
            "           0       0.98      0.98      0.98       885\n",
            "           1       0.91      0.90      0.90       149\n",
            "\n",
            "    accuracy                           0.97      1034\n",
            "   macro avg       0.94      0.94      0.94      1034\n",
            "weighted avg       0.97      0.97      0.97      1034\n",
            "\n"
          ]
        }
      ]
    },
    {
      "cell_type": "code",
      "execution_count": null,
      "metadata": {
        "colab": {
          "base_uri": "https://localhost:8080/",
          "height": 448
        },
        "id": "IXc0Mf7k7Re-",
        "outputId": "4e79cc6b-5471-4db4-b146-7f5d8a58ebd9"
      },
      "outputs": [
        {
          "output_type": "execute_result",
          "data": {
            "text/plain": [
              "<Axes: >"
            ]
          },
          "metadata": {},
          "execution_count": 23
        },
        {
          "output_type": "display_data",
          "data": {
            "text/plain": [
              "<Figure size 640x480 with 2 Axes>"
            ],
            "image/png": "[encoded data removed]"
          },
          "metadata": {}
        }
      ],
      "source": [
        "conf_mat = metrics.confusion_matrix(y_test,y_pred)\n",
        "\n",
        "sns.heatmap(conf_mat,annot=True)"
      ]
    },
    {
      "cell_type": "code",
      "execution_count": null,
      "metadata": {
        "colab": {
          "base_uri": "https://localhost:8080/"
        },
        "id": "tRRR6-Tg5F_G",
        "outputId": "a2795118-0f9b-4010-b576-d4643d1e93ba"
      },
      "outputs": [
        {
          "output_type": "stream",
          "name": "stdout",
          "text": [
            "Model accuracy after applying SMOTE: 97.20%\n",
            "Model f1_score after applying SMOTE: 90.24%\n",
            "Model precision after applying SMOTE: 90.54%\n",
            "Model recall after applying SMOTE: 89.93%\n"
          ]
        }
      ],
      "source": [
        "accuracy = metrics.accuracy_score(y_test, y_pred)\n",
        "f1_score = metrics.f1_score(y_test,y_pred)\n",
        "precision = metrics.precision_score(y_test,y_pred)\n",
        "recall = metrics.recall_score(y_test,y_pred)\n",
        "print(f\"Model accuracy after applying SMOTE: {100 * accuracy:.2f}%\")\n",
        "print(f\"Model f1_score after applying SMOTE: {100 * f1_score:.2f}%\")\n",
        "print(f\"Model precision after applying SMOTE: {100 * precision:.2f}%\")\n",
        "print(f\"Model recall after applying SMOTE: {100 * recall:.2f}%\")"
      ]
    },
    {
      "cell_type": "code",
      "source": [
        "y_pred_propa = NB_model.predict_proba(x_test)\n",
        "\n",
        "fpr,tpr,thresholds = metrics.roc_curve(y_test,y_pred_propa[:,1])\n",
        "\n",
        "plt.plot(fpr,tpr)\n",
        "plt.plot([0,1],[0,1],'--')\n",
        "plt.title(\"ROC_curve\")"
      ],
      "metadata": {
        "colab": {
          "base_uri": "https://localhost:8080/",
          "height": 470
        },
        "id": "D8P6iR6ltF6m",
        "outputId": "16faa6d0-6c2c-44a7-cad5-f3468f44ee9d"
      },
      "execution_count": null,
      "outputs": [
        {
          "output_type": "execute_result",
          "data": {
            "text/plain": [
              "Text(0.5, 1.0, 'ROC_curve')"
            ]
          },
          "metadata": {},
          "execution_count": 35
        },
        {
          "output_type": "display_data",
          "data": {
            "text/plain": [
              "<Figure size 640x480 with 1 Axes>"
            ],
            "image/png": "[encoded data removed]"
          },
          "metadata": {}
        }
      ]
    },
    {
      "cell_type": "code",
      "source": [
        "AUC = metrics.roc_auc_score(y_test,y_pred_propa[:,1])\n",
        "\n",
        "print(f\"NB model AUC = {100* AUC:.5} %\")"
      ],
      "metadata": {
        "colab": {
          "base_uri": "https://localhost:8080/"
        },
        "id": "7Qt_OAautTTl",
        "outputId": "2bc2c62b-9e67-4e3f-8c7c-b323bc789493"
      },
      "execution_count": null,
      "outputs": [
        {
          "output_type": "stream",
          "name": "stdout",
          "text": [
            "NB model AUC = 96.746 %\n"
          ]
        }
      ]
    },
    {
      "cell_type": "code",
      "execution_count": null,
      "metadata": {
        "id": "f55Qua_68vcm"
      },
      "outputs": [],
      "source": [
        "from imblearn.under_sampling import RandomUnderSampler\n",
        "\n",
        "rus = RandomUnderSampler(random_state=0)\n",
        "\n",
        "x_rus,y_rus = rus.fit_resample(x_train,y_train)"
      ]
    },
    {
      "cell_type": "markdown",
      "source": [
        "#After Applying Under Sampling(RandomUnderSampling)"
      ],
      "metadata": {
        "id": "yXrhfe1MlrFd"
      }
    },
    {
      "cell_type": "code",
      "source": [
        "from sklearn.naive_bayes import BernoulliNB\n",
        "NB_model = BernoulliNB(alpha= 0.1, fit_prior= True)\n",
        "\n",
        "NB_model.fit(x_rus,y_rus)\n",
        "\n",
        "y_pred = NB_model.predict(x_test)"
      ],
      "metadata": {
        "id": "EFPyWUzeHdrs"
      },
      "execution_count": null,
      "outputs": []
    },
    {
      "cell_type": "code",
      "source": [
        "print(metrics.classification_report(y_test,y_pred))"
      ],
      "metadata": {
        "colab": {
          "base_uri": "https://localhost:8080/"
        },
        "id": "fN3fdhRmiKeD",
        "outputId": "aa08f07e-08e3-44a8-c0e4-fd2a3ae136be"
      },
      "execution_count": null,
      "outputs": [
        {
          "output_type": "stream",
          "name": "stdout",
          "text": [
            "              precision    recall  f1-score   support\n",
            "\n",
            "           0       0.99      1.00      0.99       885\n",
            "           1       0.97      0.93      0.95       149\n",
            "\n",
            "    accuracy                           0.99      1034\n",
            "   macro avg       0.98      0.96      0.97      1034\n",
            "weighted avg       0.99      0.99      0.99      1034\n",
            "\n"
          ]
        }
      ]
    },
    {
      "cell_type": "code",
      "source": [
        "conf_mat = metrics.confusion_matrix(y_test,y_pred)\n",
        "\n",
        "sns.heatmap(conf_mat,annot=True)"
      ],
      "metadata": {
        "colab": {
          "base_uri": "https://localhost:8080/",
          "height": 448
        },
        "id": "CCNqyjz3iAVQ",
        "outputId": "c3a5183c-8c33-4830-90d8-6aee88e1a1d1"
      },
      "execution_count": null,
      "outputs": [
        {
          "output_type": "execute_result",
          "data": {
            "text/plain": [
              "<Axes: >"
            ]
          },
          "metadata": {},
          "execution_count": 18
        },
        {
          "output_type": "display_data",
          "data": {
            "text/plain": [
              "<Figure size 640x480 with 2 Axes>"
            ],
            "image/png": "[encoded data removed]"
          },
          "metadata": {}
        }
      ]
    },
    {
      "cell_type": "code",
      "source": [
        "accuracy = metrics.accuracy_score(y_test, y_pred)\n",
        "f1_score = metrics.f1_score(y_test,y_pred)\n",
        "precision = metrics.precision_score(y_test,y_pred)\n",
        "recall = metrics.recall_score(y_test,y_pred)\n",
        "print(f\"Model accuracy after applying RandomUnderSampler: {100 * accuracy:.2f}%\")\n",
        "print(f\"Model f1_score after applying RandomUnderSampler: {100 * f1_score:.2f}%\")\n",
        "print(f\"Model precision after applying RandomUnderSampler: {100 * precision:.2f}%\")\n",
        "print(f\"Model recall after applying RandomUnderSampler: {100 * recall:.2f}%\")"
      ],
      "metadata": {
        "colab": {
          "base_uri": "https://localhost:8080/"
        },
        "id": "HhyTivk7Hyzw",
        "outputId": "e8a1385b-3534-4724-b963-003df62bf236"
      },
      "execution_count": null,
      "outputs": [
        {
          "output_type": "stream",
          "name": "stdout",
          "text": [
            "Model accuracy after applying RandomUnderSampler: 98.65%\n",
            "Model f1_score after applying RandomUnderSampler: 95.21%\n",
            "Model precision after applying RandomUnderSampler: 97.20%\n",
            "Model recall after applying RandomUnderSampler: 93.29%\n"
          ]
        }
      ]
    },
    {
      "cell_type": "code",
      "source": [
        "y_pred_propa = NB_model.predict_proba(x_test)\n",
        "\n",
        "fpr,tpr,thresholds = metrics.roc_curve(y_test,y_pred_propa[:,1])\n",
        "\n",
        "plt.plot(fpr,tpr)\n",
        "plt.plot([0,1],[0,1],'--')\n",
        "plt.title(\"ROC_curve\")"
      ],
      "metadata": {
        "colab": {
          "base_uri": "https://localhost:8080/",
          "height": 470
        },
        "id": "fOEgWb5ytfO1",
        "outputId": "aded43d9-d6c4-462e-96d7-68cdc9a3fb2d"
      },
      "execution_count": null,
      "outputs": [
        {
          "output_type": "execute_result",
          "data": {
            "text/plain": [
              "Text(0.5, 1.0, 'ROC_curve')"
            ]
          },
          "metadata": {},
          "execution_count": 40
        },
        {
          "output_type": "display_data",
          "data": {
            "text/plain": [
              "<Figure size 640x480 with 1 Axes>"
            ],
            "image/png": "[encoded data removed]"
          },
          "metadata": {}
        }
      ]
    },
    {
      "cell_type": "code",
      "source": [
        "AUC = metrics.roc_auc_score(y_test,y_pred_propa[:,1])\n",
        "\n",
        "print(f\"NB model AUC = {100* AUC:.5} %\")"
      ],
      "metadata": {
        "colab": {
          "base_uri": "https://localhost:8080/"
        },
        "id": "_9cBpvOMtdpD",
        "outputId": "15e5861a-2553-48d4-db0f-c13e7b830af5"
      },
      "execution_count": null,
      "outputs": [
        {
          "output_type": "stream",
          "name": "stdout",
          "text": [
            "NB model AUC = 98.464 %\n"
          ]
        }
      ]
    },
    {
      "cell_type": "markdown",
      "source": [
        "#Boosting"
      ],
      "metadata": {
        "id": "NZ0pjYjDkfCf"
      }
    },
    {
      "cell_type": "markdown",
      "source": [
        "#XGBoostModel"
      ],
      "metadata": {
        "id": "XJ8t4jrFuZ5I"
      }
    },
    {
      "cell_type": "code",
      "source": [
        "param_grid = {\n",
        "    'n_estimators': [100, 200, 300],\n",
        "    'learning_rate': [0.01, 0.1, 0.2],\n",
        "    'max_depth': [3, 4, 5]\n",
        "}"
      ],
      "metadata": {
        "id": "oyfd0kIXvU9A"
      },
      "execution_count": null,
      "outputs": []
    },
    {
      "cell_type": "code",
      "source": [
        "from sklearn.model_selection import GridSearchCV\n",
        "\n",
        "xgb_model = XGBClassifier()\n",
        "\n",
        "g_search = GridSearchCV(estimator=xgb_model, param_grid=param_grid,return_train_score=True, verbose=2)\n",
        "\n",
        "g_search.fit(x_train,y_train)\n",
        "print('Best paramters',g_search.best_params_)"
      ],
      "metadata": {
        "colab": {
          "base_uri": "https://localhost:8080/"
        },
        "id": "ZnQfPt3BwHCN",
        "outputId": "d9799a53-d6bc-4dca-dc03-e2921c56a3ea"
      },
      "execution_count": null,
      "outputs": [
        {
          "output_type": "stream",
          "name": "stdout",
          "text": [
            "Fitting 5 folds for each of 27 candidates, totalling 135 fits\n",
            "[CV] END ..learning_rate=0.01, max_depth=3, n_estimators=100; total time=   8.9s\n",
            "[CV] END ..learning_rate=0.01, max_depth=3, n_estimators=100; total time=   5.9s\n",
            "[CV] END ..learning_rate=0.01, max_depth=3, n_estimators=100; total time=   8.6s\n",
            "[CV] END ..learning_rate=0.01, max_depth=3, n_estimators=100; total time=   5.9s\n",
            "[CV] END ..learning_rate=0.01, max_depth=3, n_estimators=100; total time=   8.6s\n",
            "[CV] END ..learning_rate=0.01, max_depth=3, n_estimators=200; total time=  12.0s\n",
            "[CV] END ..learning_rate=0.01, max_depth=3, n_estimators=200; total time=   9.5s\n",
            "[CV] END ..learning_rate=0.01, max_depth=3, n_estimators=200; total time=  10.8s\n",
            "[CV] END ..learning_rate=0.01, max_depth=3, n_estimators=200; total time=  12.0s\n",
            "[CV] END ..learning_rate=0.01, max_depth=3, n_estimators=200; total time=  12.1s\n",
            "[CV] END ..learning_rate=0.01, max_depth=3, n_estimators=300; total time=  16.7s\n",
            "[CV] END ..learning_rate=0.01, max_depth=3, n_estimators=300; total time=  15.3s\n",
            "[CV] END ..learning_rate=0.01, max_depth=3, n_estimators=300; total time=  15.0s\n",
            "[CV] END ..learning_rate=0.01, max_depth=3, n_estimators=300; total time=  14.4s\n",
            "[CV] END ..learning_rate=0.01, max_depth=3, n_estimators=300; total time=  15.2s\n",
            "[CV] END ..learning_rate=0.01, max_depth=4, n_estimators=100; total time=   7.3s\n",
            "[CV] END ..learning_rate=0.01, max_depth=4, n_estimators=100; total time=   8.5s\n",
            "[CV] END ..learning_rate=0.01, max_depth=4, n_estimators=100; total time=   6.5s\n",
            "[CV] END ..learning_rate=0.01, max_depth=4, n_estimators=100; total time=   9.0s\n",
            "[CV] END ..learning_rate=0.01, max_depth=4, n_estimators=100; total time=   6.3s\n",
            "[CV] END ..learning_rate=0.01, max_depth=4, n_estimators=200; total time=  12.5s\n",
            "[CV] END ..learning_rate=0.01, max_depth=4, n_estimators=200; total time=  12.9s\n",
            "[CV] END ..learning_rate=0.01, max_depth=4, n_estimators=200; total time=  12.8s\n",
            "[CV] END ..learning_rate=0.01, max_depth=4, n_estimators=200; total time=  12.8s\n",
            "[CV] END ..learning_rate=0.01, max_depth=4, n_estimators=200; total time=  12.8s\n",
            "[CV] END ..learning_rate=0.01, max_depth=4, n_estimators=300; total time=  16.5s\n",
            "[CV] END ..learning_rate=0.01, max_depth=4, n_estimators=300; total time=  16.2s\n",
            "[CV] END ..learning_rate=0.01, max_depth=4, n_estimators=300; total time=  17.9s\n",
            "[CV] END ..learning_rate=0.01, max_depth=4, n_estimators=300; total time=  16.3s\n",
            "[CV] END ..learning_rate=0.01, max_depth=4, n_estimators=300; total time=  16.5s\n",
            "[CV] END ..learning_rate=0.01, max_depth=5, n_estimators=100; total time=   9.4s\n",
            "[CV] END ..learning_rate=0.01, max_depth=5, n_estimators=100; total time=   6.6s\n",
            "[CV] END ..learning_rate=0.01, max_depth=5, n_estimators=100; total time=   9.2s\n",
            "[CV] END ..learning_rate=0.01, max_depth=5, n_estimators=100; total time=   6.5s\n",
            "[CV] END ..learning_rate=0.01, max_depth=5, n_estimators=100; total time=   8.3s\n",
            "[CV] END ..learning_rate=0.01, max_depth=5, n_estimators=200; total time=  13.6s\n",
            "[CV] END ..learning_rate=0.01, max_depth=5, n_estimators=200; total time=  13.5s\n",
            "[CV] END ..learning_rate=0.01, max_depth=5, n_estimators=200; total time=  13.7s\n",
            "[CV] END ..learning_rate=0.01, max_depth=5, n_estimators=200; total time=  13.6s\n",
            "[CV] END ..learning_rate=0.01, max_depth=5, n_estimators=200; total time=  13.6s\n",
            "[CV] END ..learning_rate=0.01, max_depth=5, n_estimators=300; total time=  18.6s\n",
            "[CV] END ..learning_rate=0.01, max_depth=5, n_estimators=300; total time=  19.6s\n",
            "[CV] END ..learning_rate=0.01, max_depth=5, n_estimators=300; total time=  17.5s\n",
            "[CV] END ..learning_rate=0.01, max_depth=5, n_estimators=300; total time=  17.3s\n",
            "[CV] END ..learning_rate=0.01, max_depth=5, n_estimators=300; total time=  20.0s\n",
            "[CV] END ...learning_rate=0.1, max_depth=3, n_estimators=100; total time=   5.7s\n",
            "[CV] END ...learning_rate=0.1, max_depth=3, n_estimators=100; total time=   8.3s\n",
            "[CV] END ...learning_rate=0.1, max_depth=3, n_estimators=100; total time=   5.6s\n",
            "[CV] END ...learning_rate=0.1, max_depth=3, n_estimators=100; total time=   8.3s\n",
            "[CV] END ...learning_rate=0.1, max_depth=3, n_estimators=100; total time=   5.6s\n",
            "[CV] END ...learning_rate=0.1, max_depth=3, n_estimators=200; total time=  11.4s\n",
            "[CV] END ...learning_rate=0.1, max_depth=3, n_estimators=200; total time=  11.4s\n",
            "[CV] END ...learning_rate=0.1, max_depth=3, n_estimators=200; total time=  11.4s\n",
            "[CV] END ...learning_rate=0.1, max_depth=3, n_estimators=200; total time=   8.7s\n",
            "[CV] END ...learning_rate=0.1, max_depth=3, n_estimators=200; total time=  10.4s\n",
            "[CV] END ...learning_rate=0.1, max_depth=3, n_estimators=300; total time=  14.4s\n",
            "[CV] END ...learning_rate=0.1, max_depth=3, n_estimators=300; total time=  14.5s\n",
            "[CV] END ...learning_rate=0.1, max_depth=3, n_estimators=300; total time=  14.4s\n",
            "[CV] END ...learning_rate=0.1, max_depth=3, n_estimators=300; total time=  14.1s\n",
            "[CV] END ...learning_rate=0.1, max_depth=3, n_estimators=300; total time=  14.2s\n",
            "[CV] END ...learning_rate=0.1, max_depth=4, n_estimators=100; total time=   8.1s\n",
            "[CV] END ...learning_rate=0.1, max_depth=4, n_estimators=100; total time=   5.9s\n",
            "[CV] END ...learning_rate=0.1, max_depth=4, n_estimators=100; total time=   8.0s\n",
            "[CV] END ...learning_rate=0.1, max_depth=4, n_estimators=100; total time=   5.9s\n",
            "[CV] END ...learning_rate=0.1, max_depth=4, n_estimators=100; total time=   7.9s\n",
            "[CV] END ...learning_rate=0.1, max_depth=4, n_estimators=200; total time=  11.9s\n",
            "[CV] END ...learning_rate=0.1, max_depth=4, n_estimators=200; total time=  10.9s\n",
            "[CV] END ...learning_rate=0.1, max_depth=4, n_estimators=200; total time=   9.7s\n",
            "[CV] END ...learning_rate=0.1, max_depth=4, n_estimators=200; total time=  11.6s\n",
            "[CV] END ...learning_rate=0.1, max_depth=4, n_estimators=200; total time=  11.8s\n",
            "[CV] END ...learning_rate=0.1, max_depth=4, n_estimators=300; total time=  15.2s\n",
            "[CV] END ...learning_rate=0.1, max_depth=4, n_estimators=300; total time=  15.3s\n",
            "[CV] END ...learning_rate=0.1, max_depth=4, n_estimators=300; total time=  15.2s\n",
            "[CV] END ...learning_rate=0.1, max_depth=4, n_estimators=300; total time=  14.5s\n",
            "[CV] END ...learning_rate=0.1, max_depth=4, n_estimators=300; total time=  14.2s\n",
            "[CV] END ...learning_rate=0.1, max_depth=5, n_estimators=100; total time=   7.9s\n",
            "[CV] END ...learning_rate=0.1, max_depth=5, n_estimators=100; total time=   6.1s\n",
            "[CV] END ...learning_rate=0.1, max_depth=5, n_estimators=100; total time=   7.8s\n",
            "[CV] END ...learning_rate=0.1, max_depth=5, n_estimators=100; total time=   6.1s\n",
            "[CV] END ...learning_rate=0.1, max_depth=5, n_estimators=100; total time=   7.9s\n",
            "[CV] END ...learning_rate=0.1, max_depth=5, n_estimators=200; total time=  12.3s\n",
            "[CV] END ...learning_rate=0.1, max_depth=5, n_estimators=200; total time=  12.4s\n",
            "[CV] END ...learning_rate=0.1, max_depth=5, n_estimators=200; total time=  12.1s\n",
            "[CV] END ...learning_rate=0.1, max_depth=5, n_estimators=200; total time=   9.8s\n",
            "[CV] END ...learning_rate=0.1, max_depth=5, n_estimators=200; total time=  11.5s\n",
            "[CV] END ...learning_rate=0.1, max_depth=5, n_estimators=300; total time=  16.1s\n",
            "[CV] END ...learning_rate=0.1, max_depth=5, n_estimators=300; total time=  16.8s\n",
            "[CV] END ...learning_rate=0.1, max_depth=5, n_estimators=300; total time=  16.3s\n",
            "[CV] END ...learning_rate=0.1, max_depth=5, n_estimators=300; total time=  16.1s\n",
            "[CV] END ...learning_rate=0.1, max_depth=5, n_estimators=300; total time=  16.0s\n",
            "[CV] END ...learning_rate=0.2, max_depth=3, n_estimators=100; total time=   8.2s\n",
            "[CV] END ...learning_rate=0.2, max_depth=3, n_estimators=100; total time=   5.5s\n",
            "[CV] END ...learning_rate=0.2, max_depth=3, n_estimators=100; total time=   8.2s\n",
            "[CV] END ...learning_rate=0.2, max_depth=3, n_estimators=100; total time=   6.6s\n",
            "[CV] END ...learning_rate=0.2, max_depth=3, n_estimators=100; total time=   8.3s\n",
            "[CV] END ...learning_rate=0.2, max_depth=3, n_estimators=200; total time=  11.3s\n",
            "[CV] END ...learning_rate=0.2, max_depth=3, n_estimators=200; total time=   8.7s\n",
            "[CV] END ...learning_rate=0.2, max_depth=3, n_estimators=200; total time=  10.9s\n",
            "[CV] END ...learning_rate=0.2, max_depth=3, n_estimators=200; total time=  11.3s\n",
            "[CV] END ...learning_rate=0.2, max_depth=3, n_estimators=200; total time=  11.2s\n",
            "[CV] END ...learning_rate=0.2, max_depth=3, n_estimators=300; total time=  14.8s\n",
            "[CV] END ...learning_rate=0.2, max_depth=3, n_estimators=300; total time=  14.5s\n",
            "[CV] END ...learning_rate=0.2, max_depth=3, n_estimators=300; total time=  14.5s\n",
            "[CV] END ...learning_rate=0.2, max_depth=3, n_estimators=300; total time=  14.5s\n",
            "[CV] END ...learning_rate=0.2, max_depth=3, n_estimators=300; total time=  14.5s\n",
            "[CV] END ...learning_rate=0.2, max_depth=4, n_estimators=100; total time=   8.4s\n",
            "[CV] END ...learning_rate=0.2, max_depth=4, n_estimators=100; total time=   5.8s\n",
            "[CV] END ...learning_rate=0.2, max_depth=4, n_estimators=100; total time=   8.5s\n",
            "[CV] END ...learning_rate=0.2, max_depth=4, n_estimators=100; total time=   5.8s\n",
            "[CV] END ...learning_rate=0.2, max_depth=4, n_estimators=100; total time=   8.4s\n",
            "[CV] END ...learning_rate=0.2, max_depth=4, n_estimators=200; total time=  12.0s\n",
            "[CV] END ...learning_rate=0.2, max_depth=4, n_estimators=200; total time=   9.5s\n",
            "[CV] END ...learning_rate=0.2, max_depth=4, n_estimators=200; total time=  10.5s\n",
            "[CV] END ...learning_rate=0.2, max_depth=4, n_estimators=200; total time=  11.9s\n",
            "[CV] END ...learning_rate=0.2, max_depth=4, n_estimators=200; total time=  11.9s\n",
            "[CV] END ...learning_rate=0.2, max_depth=4, n_estimators=300; total time=  15.4s\n",
            "[CV] END ...learning_rate=0.2, max_depth=4, n_estimators=300; total time=  15.4s\n",
            "[CV] END ...learning_rate=0.2, max_depth=4, n_estimators=300; total time=  15.2s\n",
            "[CV] END ...learning_rate=0.2, max_depth=4, n_estimators=300; total time=  15.1s\n",
            "[CV] END ...learning_rate=0.2, max_depth=4, n_estimators=300; total time=  14.4s\n",
            "[CV] END ...learning_rate=0.2, max_depth=5, n_estimators=100; total time=   7.6s\n",
            "[CV] END ...learning_rate=0.2, max_depth=5, n_estimators=100; total time=   6.1s\n",
            "[CV] END ...learning_rate=0.2, max_depth=5, n_estimators=100; total time=   7.7s\n",
            "[CV] END ...learning_rate=0.2, max_depth=5, n_estimators=100; total time=   6.1s\n",
            "[CV] END ...learning_rate=0.2, max_depth=5, n_estimators=100; total time=   7.8s\n",
            "[CV] END ...learning_rate=0.2, max_depth=5, n_estimators=200; total time=  12.6s\n",
            "[CV] END ...learning_rate=0.2, max_depth=5, n_estimators=200; total time=  12.6s\n",
            "[CV] END ...learning_rate=0.2, max_depth=5, n_estimators=200; total time=  12.5s\n",
            "[CV] END ...learning_rate=0.2, max_depth=5, n_estimators=200; total time=  12.2s\n",
            "[CV] END ...learning_rate=0.2, max_depth=5, n_estimators=200; total time=   9.9s\n",
            "[CV] END ...learning_rate=0.2, max_depth=5, n_estimators=300; total time=  18.2s\n",
            "[CV] END ...learning_rate=0.2, max_depth=5, n_estimators=300; total time=  16.5s\n",
            "[CV] END ...learning_rate=0.2, max_depth=5, n_estimators=300; total time=  16.4s\n",
            "[CV] END ...learning_rate=0.2, max_depth=5, n_estimators=300; total time=  16.5s\n",
            "[CV] END ...learning_rate=0.2, max_depth=5, n_estimators=300; total time=  18.1s\n",
            "Best paramters {'learning_rate': 0.2, 'max_depth': 5, 'n_estimators': 200}\n"
          ]
        }
      ]
    },
    {
      "cell_type": "code",
      "source": [
        "from xgboost import XGBClassifier\n",
        "\n",
        "\n",
        "xgb_model = XGBClassifier()\n",
        "\n",
        "xgb_model.fit(x_train,y_train)\n",
        "y_pred = xgb_model.predict(x_test)"
      ],
      "metadata": {
        "id": "7L0Glnugujhj"
      },
      "execution_count": null,
      "outputs": []
    },
    {
      "cell_type": "code",
      "source": [
        "print(metrics.classification_report(y_test,y_pred))"
      ],
      "metadata": {
        "colab": {
          "base_uri": "https://localhost:8080/"
        },
        "id": "PHo2Sv0lvJWD",
        "outputId": "906c13f7-2ef7-4a36-ad09-e1b0a8fdd857"
      },
      "execution_count": null,
      "outputs": [
        {
          "output_type": "stream",
          "name": "stdout",
          "text": [
            "              precision    recall  f1-score   support\n",
            "\n",
            "           0       0.98      1.00      0.99       885\n",
            "           1       0.97      0.88      0.92       149\n",
            "\n",
            "    accuracy                           0.98      1034\n",
            "   macro avg       0.98      0.94      0.96      1034\n",
            "weighted avg       0.98      0.98      0.98      1034\n",
            "\n"
          ]
        }
      ]
    },
    {
      "cell_type": "code",
      "source": [
        "conf_mat = metrics.confusion_matrix(y_test,y_pred)\n",
        "\n",
        "sns.heatmap(conf_mat,annot=True)"
      ],
      "metadata": {
        "colab": {
          "base_uri": "https://localhost:8080/",
          "height": 448
        },
        "id": "zNpnYqfr20Iu",
        "outputId": "5fb5f87a-aa9d-4574-8c9d-612688a72ce4"
      },
      "execution_count": null,
      "outputs": [
        {
          "output_type": "execute_result",
          "data": {
            "text/plain": [
              "<Axes: >"
            ]
          },
          "metadata": {},
          "execution_count": 37
        },
        {
          "output_type": "display_data",
          "data": {
            "text/plain": [
              "<Figure size 640x480 with 2 Axes>"
            ],
            "image/png": "[encoded data removed]"
          },
          "metadata": {}
        }
      ]
    },
    {
      "cell_type": "code",
      "source": [
        "accuracy = metrics.accuracy_score(y_test, y_pred)\n",
        "f1_score = metrics.f1_score(y_test,y_pred)\n",
        "precision = metrics.precision_score(y_test,y_pred)\n",
        "recall = metrics.recall_score(y_test,y_pred)\n",
        "print(f\"Model accuracy after applying xgb_model: {100 * accuracy:.2f}%\")\n",
        "print(f\"Model f1_score after applying xgb_model: {100 * f1_score:.2f}%\")\n",
        "print(f\"Model precision after applying xgb_model: {100 * precision:.2f}%\")\n",
        "print(f\"Model recall after applying xgb_model: {100 * recall:.2f}%\")"
      ],
      "metadata": {
        "colab": {
          "base_uri": "https://localhost:8080/"
        },
        "id": "fmhyY9hu2Iho",
        "outputId": "a5022afa-e4fa-464d-d220-4ca69c660124"
      },
      "execution_count": null,
      "outputs": [
        {
          "output_type": "stream",
          "name": "stdout",
          "text": [
            "Model accuracy after applying xgb_model: 97.87%\n",
            "Model f1_score after applying xgb_model: 92.25%\n",
            "Model precision after applying xgb_model: 97.04%\n",
            "Model recall after applying xgb_model: 87.92%\n"
          ]
        }
      ]
    },
    {
      "cell_type": "code",
      "source": [
        "y_pred_propa = xgb_model.predict_proba(x_test)\n",
        "\n",
        "fpr,tpr,thresholds = metrics.roc_curve(y_test,y_pred_propa[:,1])\n",
        "\n",
        "plt.plot(fpr,tpr)\n",
        "plt.plot([0,1],[0,1],'--')\n",
        "plt.title(\"ROC_curve\")"
      ],
      "metadata": {
        "colab": {
          "base_uri": "https://localhost:8080/",
          "height": 470
        },
        "id": "NRsISw0L2lDL",
        "outputId": "eacd1c43-0fce-45e0-f51e-ef5978e313a3"
      },
      "execution_count": null,
      "outputs": [
        {
          "output_type": "execute_result",
          "data": {
            "text/plain": [
              "Text(0.5, 1.0, 'ROC_curve')"
            ]
          },
          "metadata": {},
          "execution_count": 39
        },
        {
          "output_type": "display_data",
          "data": {
            "text/plain": [
              "<Figure size 640x480 with 1 Axes>"
            ],
            "image/png": "[encoded data removed]"
          },
          "metadata": {}
        }
      ]
    },
    {
      "cell_type": "code",
      "source": [
        "AUC = metrics.roc_auc_score(y_test,y_pred_propa[:,1])\n",
        "\n",
        "print(f\"NB model AUC = {100* AUC:.5} %\")"
      ],
      "metadata": {
        "colab": {
          "base_uri": "https://localhost:8080/"
        },
        "id": "ZgYk_7FN2tGj",
        "outputId": "f0f3f66c-3317-45cf-97f3-acd0275a0209"
      },
      "execution_count": null,
      "outputs": [
        {
          "output_type": "stream",
          "name": "stdout",
          "text": [
            "NB model AUC = 98.16 %\n"
          ]
        }
      ]
    },
    {
      "cell_type": "markdown",
      "source": [
        "#After Applying Over Sampling(Smote)"
      ],
      "metadata": {
        "id": "mkVLg2irkzgm"
      }
    },
    {
      "cell_type": "code",
      "source": [
        "xgb_model = XGBClassifier()\n",
        "\n",
        "xgb_model.fit(x_train_resampled,y_train_resampled)\n",
        "\n",
        "y_pred = xgb_model.predict(x_test)"
      ],
      "metadata": {
        "id": "OMV94gV-e2GO"
      },
      "execution_count": null,
      "outputs": []
    },
    {
      "cell_type": "code",
      "source": [
        "print(metrics.classification_report(y_test,y_pred))"
      ],
      "metadata": {
        "colab": {
          "base_uri": "https://localhost:8080/"
        },
        "id": "_V6HIy3Zjjmq",
        "outputId": "063059e1-06ab-4b0d-fa4f-20fd39df69bf"
      },
      "execution_count": null,
      "outputs": [
        {
          "output_type": "stream",
          "name": "stdout",
          "text": [
            "              precision    recall  f1-score   support\n",
            "\n",
            "           0       0.97      0.92      0.95       885\n",
            "           1       0.64      0.85      0.73       149\n",
            "\n",
            "    accuracy                           0.91      1034\n",
            "   macro avg       0.81      0.89      0.84      1034\n",
            "weighted avg       0.93      0.91      0.92      1034\n",
            "\n"
          ]
        }
      ]
    },
    {
      "cell_type": "code",
      "source": [
        "conf_mat = metrics.confusion_matrix(y_test,y_pred)\n",
        "\n",
        "sns.heatmap(conf_mat,annot=True)"
      ],
      "metadata": {
        "colab": {
          "base_uri": "https://localhost:8080/",
          "height": 448
        },
        "id": "82Pkhgq0jp1H",
        "outputId": "1e7e6bda-70fb-44cd-cfc6-20eeaa2a5fb9"
      },
      "execution_count": null,
      "outputs": [
        {
          "output_type": "execute_result",
          "data": {
            "text/plain": [
              "<Axes: >"
            ]
          },
          "metadata": {},
          "execution_count": 30
        },
        {
          "output_type": "display_data",
          "data": {
            "text/plain": [
              "<Figure size 640x480 with 2 Axes>"
            ],
            "image/png": "[encoded data removed]"
          },
          "metadata": {}
        }
      ]
    },
    {
      "cell_type": "code",
      "source": [
        "y_pred_propa = xgb_model.predict_proba(x_test)\n",
        "\n",
        "fpr,tpr,thresholds = metrics.roc_curve(y_test,y_pred_propa[:,1])\n",
        "\n",
        "plt.plot(fpr,tpr)\n",
        "plt.plot([0,1],[0,1],'--')\n",
        "plt.title(\"ROC_curve\")"
      ],
      "metadata": {
        "colab": {
          "base_uri": "https://localhost:8080/",
          "height": 470
        },
        "id": "Qpf_DOgJjyHM",
        "outputId": "9db4a0e2-33dc-4af0-b36e-9542cab3bba1"
      },
      "execution_count": null,
      "outputs": [
        {
          "output_type": "execute_result",
          "data": {
            "text/plain": [
              "Text(0.5, 1.0, 'ROC_curve')"
            ]
          },
          "metadata": {},
          "execution_count": 31
        },
        {
          "output_type": "display_data",
          "data": {
            "text/plain": [
              "<Figure size 640x480 with 1 Axes>"
            ],
            "image/png": "[encoded data removed]"
          },
          "metadata": {}
        }
      ]
    },
    {
      "cell_type": "code",
      "source": [
        "AUC = metrics.roc_auc_score(y_test,y_pred_propa[:,1])\n",
        "\n",
        "print(f\"NB model AUC = {100* AUC:.5} %\")"
      ],
      "metadata": {
        "colab": {
          "base_uri": "https://localhost:8080/"
        },
        "id": "tnWA9ozSj4M4",
        "outputId": "10b4cd14-b40a-42ff-b2d2-03873c6cabbc"
      },
      "execution_count": null,
      "outputs": [
        {
          "output_type": "stream",
          "name": "stdout",
          "text": [
            "NB model AUC = 95.098 %\n"
          ]
        }
      ]
    },
    {
      "cell_type": "code",
      "source": [
        "accuracy = metrics.accuracy_score(y_test, y_pred)\n",
        "f1_score = metrics.f1_score(y_test,y_pred)\n",
        "precision = metrics.precision_score(y_test,y_pred)\n",
        "recall = metrics.recall_score(y_test,y_pred)\n",
        "print(f\"Model accuracy after applying SMOTE: {100 * accuracy:.2f}%\")\n",
        "print(f\"Model f1_score after applying SMOTE: {100 * f1_score:.2f}%\")\n",
        "print(f\"Model precision after applying SMOTE: {100 * precision:.2f}%\")\n",
        "print(f\"Model recall after applying SMOTE: {100 * recall:.2f}%\")"
      ],
      "metadata": {
        "colab": {
          "base_uri": "https://localhost:8080/"
        },
        "id": "jCKjcUc4fcPj",
        "outputId": "15a35159-e462-43dd-9631-e6303eaf2ff7"
      },
      "execution_count": null,
      "outputs": [
        {
          "output_type": "stream",
          "name": "stdout",
          "text": [
            "Model accuracy after applying SMOTE: 91.01%\n",
            "Model f1_score after applying SMOTE: 73.20%\n",
            "Model precision after applying SMOTE: 64.14%\n",
            "Model recall after applying SMOTE: 85.23%\n"
          ]
        }
      ]
    },
    {
      "cell_type": "markdown",
      "source": [
        "#After Applying Under Sampling(RandomUnderSampling)"
      ],
      "metadata": {
        "id": "X5bwp7nplCCp"
      }
    },
    {
      "cell_type": "code",
      "source": [
        "xgb_model = XGBClassifier()\n",
        "\n",
        "xgb_model.fit(x_rus,y_rus)\n",
        "\n",
        "y_pred = xgb_model.predict(x_test)"
      ],
      "metadata": {
        "id": "CPL0m_LWfkDg"
      },
      "execution_count": null,
      "outputs": []
    },
    {
      "cell_type": "code",
      "source": [
        "print(metrics.classification_report(y_test,y_pred))"
      ],
      "metadata": {
        "colab": {
          "base_uri": "https://localhost:8080/"
        },
        "id": "jkVmPD4Mj_79",
        "outputId": "5eef57cd-47a6-4834-d76c-389737b9ff11"
      },
      "execution_count": null,
      "outputs": [
        {
          "output_type": "stream",
          "name": "stdout",
          "text": [
            "              precision    recall  f1-score   support\n",
            "\n",
            "           0       0.98      0.95      0.97       885\n",
            "           1       0.77      0.91      0.83       149\n",
            "\n",
            "    accuracy                           0.95      1034\n",
            "   macro avg       0.88      0.93      0.90      1034\n",
            "weighted avg       0.95      0.95      0.95      1034\n",
            "\n"
          ]
        }
      ]
    },
    {
      "cell_type": "code",
      "source": [
        "conf_mat = metrics.confusion_matrix(y_test,y_pred)\n",
        "\n",
        "sns.heatmap(conf_mat,annot=True)"
      ],
      "metadata": {
        "colab": {
          "base_uri": "https://localhost:8080/",
          "height": 448
        },
        "id": "jEoqRwRekGLv",
        "outputId": "39be209b-ae31-420d-c7c7-4d13a9d3c2f1"
      },
      "execution_count": null,
      "outputs": [
        {
          "output_type": "execute_result",
          "data": {
            "text/plain": [
              "<Axes: >"
            ]
          },
          "metadata": {},
          "execution_count": 35
        },
        {
          "output_type": "display_data",
          "data": {
            "text/plain": [
              "<Figure size 640x480 with 2 Axes>"
            ],
            "image/png": "[encoded data removed]"
          },
          "metadata": {}
        }
      ]
    },
    {
      "cell_type": "code",
      "source": [
        "y_pred_propa = xgb_model.predict_proba(x_test)\n",
        "\n",
        "fpr,tpr,thresholds = metrics.roc_curve(y_test,y_pred_propa[:,1])\n",
        "\n",
        "plt.plot(fpr,tpr)\n",
        "plt.plot([0,1],[0,1],'--')\n",
        "plt.title(\"ROC_curve\")"
      ],
      "metadata": {
        "colab": {
          "base_uri": "https://localhost:8080/",
          "height": 470
        },
        "id": "eeSY0DDjkMGh",
        "outputId": "f5c8a698-a44e-4b77-e6b4-904a0cda7869"
      },
      "execution_count": null,
      "outputs": [
        {
          "output_type": "execute_result",
          "data": {
            "text/plain": [
              "Text(0.5, 1.0, 'ROC_curve')"
            ]
          },
          "metadata": {},
          "execution_count": 36
        },
        {
          "output_type": "display_data",
          "data": {
            "text/plain": [
              "<Figure size 640x480 with 1 Axes>"
            ],
            "image/png": "[encoded data removed]"
          },
          "metadata": {}
        }
      ]
    },
    {
      "cell_type": "code",
      "source": [
        "AUC = metrics.roc_auc_score(y_test,y_pred_propa[:,1])\n",
        "\n",
        "print(f\"NB model AUC = {100* AUC:.5} %\")"
      ],
      "metadata": {
        "colab": {
          "base_uri": "https://localhost:8080/"
        },
        "id": "7QBStivWkSai",
        "outputId": "daf2a85d-0a46-4268-eae0-f695c7ef69a9"
      },
      "execution_count": null,
      "outputs": [
        {
          "output_type": "stream",
          "name": "stdout",
          "text": [
            "NB model AUC = 97.708 %\n"
          ]
        }
      ]
    },
    {
      "cell_type": "code",
      "source": [
        "accuracy = metrics.accuracy_score(y_test, y_pred)\n",
        "f1_score = metrics.f1_score(y_test,y_pred)\n",
        "precision = metrics.precision_score(y_test,y_pred)\n",
        "recall = metrics.recall_score(y_test,y_pred)\n",
        "print(f\"Model accuracy after applying RandomUnderSampler: {100 * accuracy:.2f}%\")\n",
        "print(f\"Model f1_score after applying RandomUnderSampler: {100 * f1_score:.2f}%\")\n",
        "print(f\"Model precision after applying RandomUnderSampler: {100 * precision:.2f}%\")\n",
        "print(f\"Model recall after applying RandomUnderSampler: {100 * recall:.2f}%\")"
      ],
      "metadata": {
        "colab": {
          "base_uri": "https://localhost:8080/"
        },
        "id": "IL__njgZfyiz",
        "outputId": "15ce45bf-afc0-4bfe-dfd6-1f1e08894f6b"
      },
      "execution_count": null,
      "outputs": [
        {
          "output_type": "stream",
          "name": "stdout",
          "text": [
            "Model accuracy after applying SMOTE: 94.78%\n",
            "Model f1_score after applying SMOTE: 83.33%\n",
            "Model precision after applying SMOTE: 77.14%\n",
            "Model recall after applying SMOTE: 90.60%\n"
          ]
        }
      ]
    },
    {
      "cell_type": "markdown",
      "source": [
        "#Baging"
      ],
      "metadata": {
        "id": "IqPTPmyFmW-u"
      }
    },
    {
      "cell_type": "code",
      "source": [
        "from sklearn.ensemble import VotingClassifier\n",
        "from sklearn.tree import DecisionTreeClassifier\n",
        "from sklearn.ensemble import RandomForestClassifier"
      ],
      "metadata": {
        "id": "SYS96wWqmgjJ"
      },
      "execution_count": null,
      "outputs": []
    },
    {
      "cell_type": "code",
      "source": [
        "\n",
        "model_1 = DecisionTreeClassifier()\n",
        "model_2 = BernoulliNB()\n",
        "model_3 = RandomForestClassifier()\n",
        "\n",
        "final_model = VotingClassifier(\n",
        "    estimators=[('DT',model_1),('SMV',model_2),('RF',model_3),],\n",
        "    weights = [2,2,4]\n",
        "\n",
        ")\n",
        "\n",
        "final_model.fit(x_train,y_train)\n",
        "\n",
        "y_pred = final_model.predict(x_test)"
      ],
      "metadata": {
        "id": "kB4M4w1Gnnl7"
      },
      "execution_count": null,
      "outputs": []
    },
    {
      "cell_type": "code",
      "source": [
        "\n",
        "accuracy = metrics.accuracy_score(y_test,y_pred)\n",
        "f1_score = metrics.f1_score(y_test,y_pred)\n",
        "precision = metrics.precision_score(y_test,y_pred)\n",
        "recall = metrics.recall_score(y_test,y_pred)\n",
        "\n",
        "\n",
        "print(f\"final model accuracy = {100* accuracy:.5} %\")\n",
        "print(f\"final model f1_score = {100* f1_score:.5} %\")\n",
        "print(f\"final model precision = {100* precision:.5} %\")\n",
        "print(f\"final model recall = {100* recall:.5} %\")"
      ],
      "metadata": {
        "colab": {
          "base_uri": "https://localhost:8080/"
        },
        "id": "bTu1Ci__oXeU",
        "outputId": "34c5be5f-2f28-4a6a-b30a-f326f53b19f3"
      },
      "execution_count": null,
      "outputs": [
        {
          "output_type": "stream",
          "name": "stdout",
          "text": [
            "final model accuracy = 97.195 %\n",
            "final model f1_score = 89.219 %\n",
            "final model precision = 100.0 %\n",
            "final model recall = 80.537 %\n"
          ]
        }
      ]
    },
    {
      "cell_type": "code",
      "source": [
        "import seaborn as sns\n",
        "conf_mat = metrics.confusion_matrix(y_test,y_pred)\n",
        "\n",
        "sns.heatmap(conf_mat,annot=True)"
      ],
      "metadata": {
        "colab": {
          "base_uri": "https://localhost:8080/",
          "height": 448
        },
        "id": "8eTcyNgOoqw5",
        "outputId": "a9e85e81-7c9a-4ebe-f329-2efd85fe16c4"
      },
      "execution_count": null,
      "outputs": [
        {
          "output_type": "execute_result",
          "data": {
            "text/plain": [
              "<Axes: >"
            ]
          },
          "metadata": {},
          "execution_count": 42
        },
        {
          "output_type": "display_data",
          "data": {
            "text/plain": [
              "<Figure size 640x480 with 2 Axes>"
            ],
            "image/png": "[encoded data removed]"
          },
          "metadata": {}
        }
      ]
    },
    {
      "cell_type": "code",
      "source": [
        "model_1 = DecisionTreeClassifier()\n",
        "model_2 = BernoulliNB()\n",
        "model_3 = RandomForestClassifier()\n",
        "\n",
        "final_model = VotingClassifier(\n",
        "    estimators=[('DT',model_1),('SMV',model_2),('RF',model_3),],\n",
        "    weights = [2,2,4]\n",
        "\n",
        ")\n",
        "\n",
        "final_model.fit(x_train_resampled,y_train_resampled)\n",
        "\n",
        "y_pred = final_model.predict(x_test)"
      ],
      "metadata": {
        "id": "8sYZl5kmoyuq"
      },
      "execution_count": null,
      "outputs": []
    },
    {
      "cell_type": "code",
      "source": [
        "import seaborn as sns\n",
        "conf_mat = metrics.confusion_matrix(y_test,y_pred)\n",
        "\n",
        "sns.heatmap(conf_mat,annot=True)"
      ],
      "metadata": {
        "colab": {
          "base_uri": "https://localhost:8080/",
          "height": 448
        },
        "id": "C1Y5z4PcpZ9L",
        "outputId": "c065719d-f31a-481f-d4fe-5200a9d384b5"
      },
      "execution_count": null,
      "outputs": [
        {
          "output_type": "execute_result",
          "data": {
            "text/plain": [
              "<Axes: >"
            ]
          },
          "metadata": {},
          "execution_count": 45
        },
        {
          "output_type": "display_data",
          "data": {
            "text/plain": [
              "<Figure size 640x480 with 2 Axes>"
            ],
            "image/png": "[encoded data removed]"
          },
          "metadata": {}
        }
      ]
    },
    {
      "cell_type": "code",
      "source": [
        "\n",
        "accuracy = metrics.accuracy_score(y_test,y_pred)\n",
        "f1_score = metrics.f1_score(y_test,y_pred)\n",
        "precision = metrics.precision_score(y_test,y_pred)\n",
        "recall = metrics.recall_score(y_test,y_pred)\n",
        "\n",
        "\n",
        "print(f\"final model accuracy = {100* accuracy:.5} %\")\n",
        "print(f\"final model f1_score = {100* f1_score:.5} %\")\n",
        "print(f\"final model precision = {100* precision:.5} %\")\n",
        "print(f\"final model recall = {100* recall:.5} %\")"
      ],
      "metadata": {
        "colab": {
          "base_uri": "https://localhost:8080/"
        },
        "id": "epcslssOpUS3",
        "outputId": "16b512a7-69ab-4859-f454-f7c03acaa460"
      },
      "execution_count": null,
      "outputs": [
        {
          "output_type": "stream",
          "name": "stdout",
          "text": [
            "final model accuracy = 93.81 %\n",
            "final model f1_score = 79.487 %\n",
            "final model precision = 76.074 %\n",
            "final model recall = 83.221 %\n"
          ]
        }
      ]
    },
    {
      "cell_type": "code",
      "source": [
        "model_1 = DecisionTreeClassifier()\n",
        "model_2 = BernoulliNB()\n",
        "model_3 = RandomForestClassifier()\n",
        "\n",
        "final_model = VotingClassifier(\n",
        "    estimators=[('DT',model_1),('SMV',model_2),('RF',model_3),],\n",
        "    weights = [2,2,4]\n",
        "\n",
        ")\n",
        "\n",
        "final_model.fit(x_rus,y_rus)\n",
        "\n",
        "y_pred = final_model.predict(x_test)"
      ],
      "metadata": {
        "id": "XoQtyVOupibn"
      },
      "execution_count": null,
      "outputs": []
    },
    {
      "cell_type": "code",
      "source": [
        "import seaborn as sns\n",
        "conf_mat = metrics.confusion_matrix(y_test,y_pred)\n",
        "\n",
        "sns.heatmap(conf_mat,annot=True)"
      ],
      "metadata": {
        "colab": {
          "base_uri": "https://localhost:8080/",
          "height": 448
        },
        "id": "oyy5q634pqVu",
        "outputId": "e8eae2fa-50cf-4577-a448-d39b852876e1"
      },
      "execution_count": null,
      "outputs": [
        {
          "output_type": "execute_result",
          "data": {
            "text/plain": [
              "<Axes: >"
            ]
          },
          "metadata": {},
          "execution_count": 47
        },
        {
          "output_type": "display_data",
          "data": {
            "text/plain": [
              "<Figure size 640x480 with 2 Axes>"
            ],
            "image/png": "[encoded data removed]"
          },
          "metadata": {}
        }
      ]
    },
    {
      "cell_type": "code",
      "source": [
        "\n",
        "accuracy = metrics.accuracy_score(y_test,y_pred)\n",
        "f1_score = metrics.f1_score(y_test,y_pred)\n",
        "precision = metrics.precision_score(y_test,y_pred)\n",
        "recall = metrics.recall_score(y_test,y_pred)\n",
        "\n",
        "\n",
        "print(f\"final model accuracy = {100* accuracy:.5} %\")\n",
        "print(f\"final model f1_score = {100* f1_score:.5} %\")\n",
        "print(f\"final model precision = {100* precision:.5} %\")\n",
        "print(f\"final model recall = {100* recall:.5} %\")"
      ],
      "metadata": {
        "id": "WVTLHkOvpwmA",
        "outputId": "ebc96426-47b6-4f52-d30b-8f7db482d62d",
        "colab": {
          "base_uri": "https://localhost:8080/"
        }
      },
      "execution_count": null,
      "outputs": [
        {
          "output_type": "stream",
          "name": "stdout",
          "text": [
            "final model accuracy = 98.453 %\n",
            "final model f1_score = 94.444 %\n",
            "final model precision = 97.842 %\n",
            "final model recall = 91.275 %\n"
          ]
        }
      ]
    },
    {
      "cell_type": "markdown",
      "source": [
        "#Best results so far"
      ],
      "metadata": {
        "id": "wTQXySI3PlUZ"
      }
    },
    {
      "cell_type": "markdown",
      "source": [
        "- Model accuracy after applying RandomUnderSampler: 98.65%\n",
        "- Model f1_score after applying RandomUnderSampler: 95.21%\n",
        "- Model precision after applying RandomUnderSampler: 97.20%\n",
        "- Model recall after applying RandomUnderSampler: 93.29%"
      ],
      "metadata": {
        "id": "aNA7LhjHPnYk"
      }
    },
    {
      "cell_type": "markdown",
      "source": [
        "This results is for BernolliNB model after doing Randomundersampling we got the best results for this dataset"
      ],
      "metadata": {
        "id": "sp1Jsj29PsTc"
      }
    }
  ],
  "metadata": {
    "colab": {
      "provenance": []
    },
    "kernelspec": {
      "display_name": "Python 3",
      "name": "python3"
    },
    "language_info": {
      "name": "python"
    }
  },
  "nbformat": 4,
  "nbformat_minor": 0
}